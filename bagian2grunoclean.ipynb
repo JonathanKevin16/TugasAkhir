{
 "cells": [
  {
   "cell_type": "code",
   "execution_count": 1,
   "id": "abdfe5ec",
   "metadata": {
    "_cell_guid": "b1076dfc-b9ad-4769-8c92-a6c4dae69d19",
    "_uuid": "8f2839f25d086af736a60e9eeb907d3b93b6e0e5",
    "execution": {
     "iopub.execute_input": "2023-12-24T09:44:14.932848Z",
     "iopub.status.busy": "2023-12-24T09:44:14.932482Z",
     "iopub.status.idle": "2023-12-24T09:44:26.601311Z",
     "shell.execute_reply": "2023-12-24T09:44:26.600255Z"
    },
    "papermill": {
     "duration": 11.681913,
     "end_time": "2023-12-24T09:44:26.603371",
     "exception": false,
     "start_time": "2023-12-24T09:44:14.921458",
     "status": "completed"
    },
    "tags": []
   },
   "outputs": [
    {
     "name": "stderr",
     "output_type": "stream",
     "text": [
      "/opt/conda/lib/python3.10/site-packages/scipy/__init__.py:146: UserWarning: A NumPy version >=1.16.5 and <1.23.0 is required for this version of SciPy (detected version 1.24.3\n",
      "  warnings.warn(f\"A NumPy version >={np_minversion} and <{np_maxversion}\"\n"
     ]
    },
    {
     "name": "stdout",
     "output_type": "stream",
     "text": [
      "/kaggle/input/jigsaw-toxic-comment-classification-challenge/sample_submission.csv\n",
      "/kaggle/input/jigsaw-toxic-comment-classification-challenge/test_labels.csv\n",
      "/kaggle/input/jigsaw-toxic-comment-classification-challenge/train.csv\n",
      "/kaggle/input/jigsaw-toxic-comment-classification-challenge/test.csv\n"
     ]
    }
   ],
   "source": [
    "import numpy as np\n",
    "import pandas as pd\n",
    "import re\n",
    "import matplotlib.pyplot as plt\n",
    "from tensorflow.keras import utils\n",
    "from tensorflow.keras.models import Sequential\n",
    "from tensorflow.keras.layers import Dense, Embedding, MaxPooling1D, Dropout, GRU, LSTM, Bidirectional, SpatialDropout1D, TextVectorization\n",
    "from tensorflow.keras.callbacks import ModelCheckpoint\n",
    "from tensorflow.keras.models import load_model\n",
    "\n",
    "import os\n",
    "for dirname, _, filenames in os.walk('/kaggle/input'):\n",
    "    for filename in filenames:\n",
    "        print(os.path.join(dirname, filename))"
   ]
  },
  {
   "cell_type": "code",
   "execution_count": 2,
   "id": "7e1c6839",
   "metadata": {
    "execution": {
     "iopub.execute_input": "2023-12-24T09:44:26.622997Z",
     "iopub.status.busy": "2023-12-24T09:44:26.622443Z",
     "iopub.status.idle": "2023-12-24T09:44:27.946707Z",
     "shell.execute_reply": "2023-12-24T09:44:27.945667Z"
    },
    "papermill": {
     "duration": 1.336271,
     "end_time": "2023-12-24T09:44:27.948978",
     "exception": false,
     "start_time": "2023-12-24T09:44:26.612707",
     "status": "completed"
    },
    "tags": []
   },
   "outputs": [
    {
     "name": "stdout",
     "output_type": "stream",
     "text": [
      "[nltk_data] Downloading package stopwords to /usr/share/nltk_data...\n",
      "[nltk_data]   Package stopwords is already up-to-date!\n"
     ]
    }
   ],
   "source": [
    "import nltk\n",
    "from nltk.corpus import stopwords\n",
    "from nltk.tokenize import word_tokenize\n",
    "nltk.download('stopwords')\n",
    "\n",
    "# def remove_english_stopwords(text):\n",
    "#    stop_words = set(stopwords.words('english'))\n",
    "#    word_tokens = word_tokenize(text)\n",
    "#    filtered_text = [word for word in word_tokens if not word in stop_words]\n",
    "#    return ' '.join(filtered_text)\n",
    "\n",
    "def remove_unnecessary_char(text):\n",
    "    text = re.sub('\\n',' ',text) # Remove every '\\n'\n",
    "    text = re.sub('((www\\.[^\\s]+)|(https?://[^\\s]+)|(http?://[^\\s]+))',' ',text) # Remove every URL\n",
    "    text = re.sub('  +', ' ', text) # Remove extra spaces\n",
    "    return text\n",
    "\n",
    "def remove_nonaplhanumeric(text):\n",
    "    text = re.sub('[^0-9a-zA-Z]+', ' ', text)\n",
    "    return text"
   ]
  },
  {
   "cell_type": "markdown",
   "id": "257d092f",
   "metadata": {
    "papermill": {
     "duration": 0.008744,
     "end_time": "2023-12-24T09:44:27.966875",
     "exception": false,
     "start_time": "2023-12-24T09:44:27.958131",
     "status": "completed"
    },
    "tags": []
   },
   "source": []
  },
  {
   "cell_type": "code",
   "execution_count": 3,
   "id": "6e97c12a",
   "metadata": {
    "execution": {
     "iopub.execute_input": "2023-12-24T09:44:27.986018Z",
     "iopub.status.busy": "2023-12-24T09:44:27.985716Z",
     "iopub.status.idle": "2023-12-24T09:44:27.989988Z",
     "shell.execute_reply": "2023-12-24T09:44:27.989128Z"
    },
    "papermill": {
     "duration": 0.015932,
     "end_time": "2023-12-24T09:44:27.991903",
     "exception": false,
     "start_time": "2023-12-24T09:44:27.975971",
     "status": "completed"
    },
    "tags": []
   },
   "outputs": [],
   "source": [
    "def preprocess(text):\n",
    "    text = remove_nonaplhanumeric(text) \n",
    "    text = remove_unnecessary_char(text) \n",
    "#     text = remove_english_stopwords(text) \n",
    "    return text"
   ]
  },
  {
   "cell_type": "code",
   "execution_count": 4,
   "id": "96e7120a",
   "metadata": {
    "execution": {
     "iopub.execute_input": "2023-12-24T09:44:28.011327Z",
     "iopub.status.busy": "2023-12-24T09:44:28.011037Z",
     "iopub.status.idle": "2023-12-24T09:44:29.664892Z",
     "shell.execute_reply": "2023-12-24T09:44:29.663959Z"
    },
    "papermill": {
     "duration": 1.666053,
     "end_time": "2023-12-24T09:44:29.667001",
     "exception": false,
     "start_time": "2023-12-24T09:44:28.000948",
     "status": "completed"
    },
    "tags": []
   },
   "outputs": [
    {
     "data": {
      "text/html": [
       "<div>\n",
       "<style scoped>\n",
       "    .dataframe tbody tr th:only-of-type {\n",
       "        vertical-align: middle;\n",
       "    }\n",
       "\n",
       "    .dataframe tbody tr th {\n",
       "        vertical-align: top;\n",
       "    }\n",
       "\n",
       "    .dataframe thead th {\n",
       "        text-align: right;\n",
       "    }\n",
       "</style>\n",
       "<table border=\"1\" class=\"dataframe\">\n",
       "  <thead>\n",
       "    <tr style=\"text-align: right;\">\n",
       "      <th></th>\n",
       "      <th>comment_text</th>\n",
       "      <th>toxic</th>\n",
       "      <th>severe_toxic</th>\n",
       "      <th>obscene</th>\n",
       "      <th>threat</th>\n",
       "      <th>insult</th>\n",
       "      <th>identity_hate</th>\n",
       "    </tr>\n",
       "    <tr>\n",
       "      <th>id</th>\n",
       "      <th></th>\n",
       "      <th></th>\n",
       "      <th></th>\n",
       "      <th></th>\n",
       "      <th></th>\n",
       "      <th></th>\n",
       "      <th></th>\n",
       "    </tr>\n",
       "  </thead>\n",
       "  <tbody>\n",
       "    <tr>\n",
       "      <th>0000997932d777bf</th>\n",
       "      <td>Explanation\\nWhy the edits made under my usern...</td>\n",
       "      <td>0</td>\n",
       "      <td>0</td>\n",
       "      <td>0</td>\n",
       "      <td>0</td>\n",
       "      <td>0</td>\n",
       "      <td>0</td>\n",
       "    </tr>\n",
       "    <tr>\n",
       "      <th>000103f0d9cfb60f</th>\n",
       "      <td>D'aww! He matches this background colour I'm s...</td>\n",
       "      <td>0</td>\n",
       "      <td>0</td>\n",
       "      <td>0</td>\n",
       "      <td>0</td>\n",
       "      <td>0</td>\n",
       "      <td>0</td>\n",
       "    </tr>\n",
       "    <tr>\n",
       "      <th>000113f07ec002fd</th>\n",
       "      <td>Hey man, I'm really not trying to edit war. It...</td>\n",
       "      <td>0</td>\n",
       "      <td>0</td>\n",
       "      <td>0</td>\n",
       "      <td>0</td>\n",
       "      <td>0</td>\n",
       "      <td>0</td>\n",
       "    </tr>\n",
       "    <tr>\n",
       "      <th>0001b41b1c6bb37e</th>\n",
       "      <td>\"\\nMore\\nI can't make any real suggestions on ...</td>\n",
       "      <td>0</td>\n",
       "      <td>0</td>\n",
       "      <td>0</td>\n",
       "      <td>0</td>\n",
       "      <td>0</td>\n",
       "      <td>0</td>\n",
       "    </tr>\n",
       "    <tr>\n",
       "      <th>0001d958c54c6e35</th>\n",
       "      <td>You, sir, are my hero. Any chance you remember...</td>\n",
       "      <td>0</td>\n",
       "      <td>0</td>\n",
       "      <td>0</td>\n",
       "      <td>0</td>\n",
       "      <td>0</td>\n",
       "      <td>0</td>\n",
       "    </tr>\n",
       "  </tbody>\n",
       "</table>\n",
       "</div>"
      ],
      "text/plain": [
       "                                                       comment_text  toxic  \\\n",
       "id                                                                           \n",
       "0000997932d777bf  Explanation\\nWhy the edits made under my usern...      0   \n",
       "000103f0d9cfb60f  D'aww! He matches this background colour I'm s...      0   \n",
       "000113f07ec002fd  Hey man, I'm really not trying to edit war. It...      0   \n",
       "0001b41b1c6bb37e  \"\\nMore\\nI can't make any real suggestions on ...      0   \n",
       "0001d958c54c6e35  You, sir, are my hero. Any chance you remember...      0   \n",
       "\n",
       "                  severe_toxic  obscene  threat  insult  identity_hate  \n",
       "id                                                                      \n",
       "0000997932d777bf             0        0       0       0              0  \n",
       "000103f0d9cfb60f             0        0       0       0              0  \n",
       "000113f07ec002fd             0        0       0       0              0  \n",
       "0001b41b1c6bb37e             0        0       0       0              0  \n",
       "0001d958c54c6e35             0        0       0       0              0  "
      ]
     },
     "execution_count": 4,
     "metadata": {},
     "output_type": "execute_result"
    }
   ],
   "source": [
    "train_data = pd.read_csv('/kaggle/input/jigsaw-toxic-comment-classification-challenge/train.csv',index_col='id')\n",
    "train_data.head()"
   ]
  },
  {
   "cell_type": "code",
   "execution_count": 5,
   "id": "6b5bcbdc",
   "metadata": {
    "execution": {
     "iopub.execute_input": "2023-12-24T09:44:29.687689Z",
     "iopub.status.busy": "2023-12-24T09:44:29.687301Z",
     "iopub.status.idle": "2023-12-24T09:44:29.691433Z",
     "shell.execute_reply": "2023-12-24T09:44:29.690544Z"
    },
    "papermill": {
     "duration": 0.016673,
     "end_time": "2023-12-24T09:44:29.693397",
     "exception": false,
     "start_time": "2023-12-24T09:44:29.676724",
     "status": "completed"
    },
    "tags": []
   },
   "outputs": [],
   "source": [
    "# train_data['comment_text'] = train_data['comment_text'].apply(preprocess)\n",
    "# train_data.head()"
   ]
  },
  {
   "cell_type": "code",
   "execution_count": 6,
   "id": "89c0251d",
   "metadata": {
    "execution": {
     "iopub.execute_input": "2023-12-24T09:44:29.713333Z",
     "iopub.status.busy": "2023-12-24T09:44:29.713054Z",
     "iopub.status.idle": "2023-12-24T09:44:29.838615Z",
     "shell.execute_reply": "2023-12-24T09:44:29.837741Z"
    },
    "papermill": {
     "duration": 0.137984,
     "end_time": "2023-12-24T09:44:29.840870",
     "exception": false,
     "start_time": "2023-12-24T09:44:29.702886",
     "status": "completed"
    },
    "tags": []
   },
   "outputs": [
    {
     "data": {
      "text/html": [
       "<div>\n",
       "<style scoped>\n",
       "    .dataframe tbody tr th:only-of-type {\n",
       "        vertical-align: middle;\n",
       "    }\n",
       "\n",
       "    .dataframe tbody tr th {\n",
       "        vertical-align: top;\n",
       "    }\n",
       "\n",
       "    .dataframe thead th {\n",
       "        text-align: right;\n",
       "    }\n",
       "</style>\n",
       "<table border=\"1\" class=\"dataframe\">\n",
       "  <thead>\n",
       "    <tr style=\"text-align: right;\">\n",
       "      <th></th>\n",
       "      <th>comment_text</th>\n",
       "      <th>toxic</th>\n",
       "      <th>severe_toxic</th>\n",
       "      <th>obscene</th>\n",
       "      <th>threat</th>\n",
       "      <th>insult</th>\n",
       "      <th>identity_hate</th>\n",
       "      <th>comment_length</th>\n",
       "    </tr>\n",
       "    <tr>\n",
       "      <th>id</th>\n",
       "      <th></th>\n",
       "      <th></th>\n",
       "      <th></th>\n",
       "      <th></th>\n",
       "      <th></th>\n",
       "      <th></th>\n",
       "      <th></th>\n",
       "      <th></th>\n",
       "    </tr>\n",
       "  </thead>\n",
       "  <tbody>\n",
       "    <tr>\n",
       "      <th>0000997932d777bf</th>\n",
       "      <td>Explanation\\nWhy the edits made under my usern...</td>\n",
       "      <td>0</td>\n",
       "      <td>0</td>\n",
       "      <td>0</td>\n",
       "      <td>0</td>\n",
       "      <td>0</td>\n",
       "      <td>0</td>\n",
       "      <td>264</td>\n",
       "    </tr>\n",
       "    <tr>\n",
       "      <th>000103f0d9cfb60f</th>\n",
       "      <td>D'aww! He matches this background colour I'm s...</td>\n",
       "      <td>0</td>\n",
       "      <td>0</td>\n",
       "      <td>0</td>\n",
       "      <td>0</td>\n",
       "      <td>0</td>\n",
       "      <td>0</td>\n",
       "      <td>112</td>\n",
       "    </tr>\n",
       "    <tr>\n",
       "      <th>000113f07ec002fd</th>\n",
       "      <td>Hey man, I'm really not trying to edit war. It...</td>\n",
       "      <td>0</td>\n",
       "      <td>0</td>\n",
       "      <td>0</td>\n",
       "      <td>0</td>\n",
       "      <td>0</td>\n",
       "      <td>0</td>\n",
       "      <td>233</td>\n",
       "    </tr>\n",
       "    <tr>\n",
       "      <th>0001b41b1c6bb37e</th>\n",
       "      <td>\"\\nMore\\nI can't make any real suggestions on ...</td>\n",
       "      <td>0</td>\n",
       "      <td>0</td>\n",
       "      <td>0</td>\n",
       "      <td>0</td>\n",
       "      <td>0</td>\n",
       "      <td>0</td>\n",
       "      <td>622</td>\n",
       "    </tr>\n",
       "    <tr>\n",
       "      <th>0001d958c54c6e35</th>\n",
       "      <td>You, sir, are my hero. Any chance you remember...</td>\n",
       "      <td>0</td>\n",
       "      <td>0</td>\n",
       "      <td>0</td>\n",
       "      <td>0</td>\n",
       "      <td>0</td>\n",
       "      <td>0</td>\n",
       "      <td>67</td>\n",
       "    </tr>\n",
       "  </tbody>\n",
       "</table>\n",
       "</div>"
      ],
      "text/plain": [
       "                                                       comment_text  toxic  \\\n",
       "id                                                                           \n",
       "0000997932d777bf  Explanation\\nWhy the edits made under my usern...      0   \n",
       "000103f0d9cfb60f  D'aww! He matches this background colour I'm s...      0   \n",
       "000113f07ec002fd  Hey man, I'm really not trying to edit war. It...      0   \n",
       "0001b41b1c6bb37e  \"\\nMore\\nI can't make any real suggestions on ...      0   \n",
       "0001d958c54c6e35  You, sir, are my hero. Any chance you remember...      0   \n",
       "\n",
       "                  severe_toxic  obscene  threat  insult  identity_hate  \\\n",
       "id                                                                       \n",
       "0000997932d777bf             0        0       0       0              0   \n",
       "000103f0d9cfb60f             0        0       0       0              0   \n",
       "000113f07ec002fd             0        0       0       0              0   \n",
       "0001b41b1c6bb37e             0        0       0       0              0   \n",
       "0001d958c54c6e35             0        0       0       0              0   \n",
       "\n",
       "                  comment_length  \n",
       "id                                \n",
       "0000997932d777bf             264  \n",
       "000103f0d9cfb60f             112  \n",
       "000113f07ec002fd             233  \n",
       "0001b41b1c6bb37e             622  \n",
       "0001d958c54c6e35              67  "
      ]
     },
     "execution_count": 6,
     "metadata": {},
     "output_type": "execute_result"
    }
   ],
   "source": [
    "train_data['comment_length'] = train_data['comment_text'].apply(lambda row: len(row))\n",
    "train_data.head()"
   ]
  },
  {
   "cell_type": "code",
   "execution_count": 7,
   "id": "f7ba90b7",
   "metadata": {
    "execution": {
     "iopub.execute_input": "2023-12-24T09:44:29.861294Z",
     "iopub.status.busy": "2023-12-24T09:44:29.860995Z",
     "iopub.status.idle": "2023-12-24T09:44:32.461012Z",
     "shell.execute_reply": "2023-12-24T09:44:32.460109Z"
    },
    "papermill": {
     "duration": 2.612486,
     "end_time": "2023-12-24T09:44:32.463155",
     "exception": false,
     "start_time": "2023-12-24T09:44:29.850669",
     "status": "completed"
    },
    "tags": []
   },
   "outputs": [
    {
     "name": "stderr",
     "output_type": "stream",
     "text": [
      "/opt/conda/lib/python3.10/site-packages/seaborn/_oldcore.py:1498: FutureWarning: is_categorical_dtype is deprecated and will be removed in a future version. Use isinstance(dtype, CategoricalDtype) instead\n",
      "  if pd.api.types.is_categorical_dtype(vector):\n",
      "/opt/conda/lib/python3.10/site-packages/seaborn/_oldcore.py:1498: FutureWarning: is_categorical_dtype is deprecated and will be removed in a future version. Use isinstance(dtype, CategoricalDtype) instead\n",
      "  if pd.api.types.is_categorical_dtype(vector):\n",
      "/opt/conda/lib/python3.10/site-packages/seaborn/_oldcore.py:1498: FutureWarning: is_categorical_dtype is deprecated and will be removed in a future version. Use isinstance(dtype, CategoricalDtype) instead\n",
      "  if pd.api.types.is_categorical_dtype(vector):\n",
      "/opt/conda/lib/python3.10/site-packages/seaborn/_oldcore.py:1498: FutureWarning: is_categorical_dtype is deprecated and will be removed in a future version. Use isinstance(dtype, CategoricalDtype) instead\n",
      "  if pd.api.types.is_categorical_dtype(vector):\n",
      "/opt/conda/lib/python3.10/site-packages/seaborn/_oldcore.py:1119: FutureWarning: use_inf_as_na option is deprecated and will be removed in a future version. Convert inf values to NaN before operating instead.\n",
      "  with pd.option_context('mode.use_inf_as_na', True):\n"
     ]
    },
    {
     "data": {
      "text/plain": [
       "<seaborn.axisgrid.FacetGrid at 0x7ca4978aa530>"
      ]
     },
     "execution_count": 7,
     "metadata": {},
     "output_type": "execute_result"
    },
    {
     "data": {
      "image/png": "[encoded data removed]",
      "text/plain": [
       "<Figure size 558.875x500 with 1 Axes>"
      ]
     },
     "metadata": {},
     "output_type": "display_data"
    }
   ],
   "source": [
    "import seaborn as sns\n",
    "sns.displot(\n",
    "    data=train_data, \n",
    "    x=\"comment_length\", \n",
    "    hue='toxic',\n",
    "    multiple=\"stack\",\n",
    ")"
   ]
  },
  {
   "cell_type": "code",
   "execution_count": 8,
   "id": "6fc1d0ac",
   "metadata": {
    "execution": {
     "iopub.execute_input": "2023-12-24T09:44:32.485664Z",
     "iopub.status.busy": "2023-12-24T09:44:32.485333Z",
     "iopub.status.idle": "2023-12-24T09:44:32.500386Z",
     "shell.execute_reply": "2023-12-24T09:44:32.499592Z"
    },
    "papermill": {
     "duration": 0.028557,
     "end_time": "2023-12-24T09:44:32.502300",
     "exception": false,
     "start_time": "2023-12-24T09:44:32.473743",
     "status": "completed"
    },
    "tags": []
   },
   "outputs": [
    {
     "data": {
      "text/html": [
       "<div>\n",
       "<style scoped>\n",
       "    .dataframe tbody tr th:only-of-type {\n",
       "        vertical-align: middle;\n",
       "    }\n",
       "\n",
       "    .dataframe tbody tr th {\n",
       "        vertical-align: top;\n",
       "    }\n",
       "\n",
       "    .dataframe thead th {\n",
       "        text-align: right;\n",
       "    }\n",
       "</style>\n",
       "<table border=\"1\" class=\"dataframe\">\n",
       "  <thead>\n",
       "    <tr style=\"text-align: right;\">\n",
       "      <th></th>\n",
       "      <th>comment_text</th>\n",
       "      <th>toxic</th>\n",
       "      <th>severe_toxic</th>\n",
       "      <th>obscene</th>\n",
       "      <th>threat</th>\n",
       "      <th>insult</th>\n",
       "      <th>identity_hate</th>\n",
       "      <th>comment_length</th>\n",
       "    </tr>\n",
       "    <tr>\n",
       "      <th>id</th>\n",
       "      <th></th>\n",
       "      <th></th>\n",
       "      <th></th>\n",
       "      <th></th>\n",
       "      <th></th>\n",
       "      <th></th>\n",
       "      <th></th>\n",
       "      <th></th>\n",
       "    </tr>\n",
       "  </thead>\n",
       "  <tbody>\n",
       "    <tr>\n",
       "      <th>0002bcb3da6cb337</th>\n",
       "      <td>COCKSUCKER BEFORE YOU PISS AROUND ON MY WORK</td>\n",
       "      <td>1</td>\n",
       "      <td>1</td>\n",
       "      <td>1</td>\n",
       "      <td>0</td>\n",
       "      <td>1</td>\n",
       "      <td>0</td>\n",
       "      <td>44</td>\n",
       "    </tr>\n",
       "    <tr>\n",
       "      <th>0005c987bdfc9d4b</th>\n",
       "      <td>Hey... what is it..\\n@ | talk .\\nWhat is it......</td>\n",
       "      <td>1</td>\n",
       "      <td>0</td>\n",
       "      <td>0</td>\n",
       "      <td>0</td>\n",
       "      <td>0</td>\n",
       "      <td>0</td>\n",
       "      <td>319</td>\n",
       "    </tr>\n",
       "    <tr>\n",
       "      <th>0007e25b2121310b</th>\n",
       "      <td>Bye! \\n\\nDon't look, come or think of comming ...</td>\n",
       "      <td>1</td>\n",
       "      <td>0</td>\n",
       "      <td>0</td>\n",
       "      <td>0</td>\n",
       "      <td>0</td>\n",
       "      <td>0</td>\n",
       "      <td>57</td>\n",
       "    </tr>\n",
       "    <tr>\n",
       "      <th>001810bf8c45bf5f</th>\n",
       "      <td>You are gay or antisemmitian? \\n\\nArchangel WH...</td>\n",
       "      <td>1</td>\n",
       "      <td>0</td>\n",
       "      <td>1</td>\n",
       "      <td>0</td>\n",
       "      <td>1</td>\n",
       "      <td>1</td>\n",
       "      <td>648</td>\n",
       "    </tr>\n",
       "    <tr>\n",
       "      <th>00190820581d90ce</th>\n",
       "      <td>FUCK YOUR FILTHY MOTHER IN THE ASS, DRY!</td>\n",
       "      <td>1</td>\n",
       "      <td>0</td>\n",
       "      <td>1</td>\n",
       "      <td>0</td>\n",
       "      <td>1</td>\n",
       "      <td>0</td>\n",
       "      <td>40</td>\n",
       "    </tr>\n",
       "  </tbody>\n",
       "</table>\n",
       "</div>"
      ],
      "text/plain": [
       "                                                       comment_text  toxic  \\\n",
       "id                                                                           \n",
       "0002bcb3da6cb337       COCKSUCKER BEFORE YOU PISS AROUND ON MY WORK      1   \n",
       "0005c987bdfc9d4b  Hey... what is it..\\n@ | talk .\\nWhat is it......      1   \n",
       "0007e25b2121310b  Bye! \\n\\nDon't look, come or think of comming ...      1   \n",
       "001810bf8c45bf5f  You are gay or antisemmitian? \\n\\nArchangel WH...      1   \n",
       "00190820581d90ce           FUCK YOUR FILTHY MOTHER IN THE ASS, DRY!      1   \n",
       "\n",
       "                  severe_toxic  obscene  threat  insult  identity_hate  \\\n",
       "id                                                                       \n",
       "0002bcb3da6cb337             1        1       0       1              0   \n",
       "0005c987bdfc9d4b             0        0       0       0              0   \n",
       "0007e25b2121310b             0        0       0       0              0   \n",
       "001810bf8c45bf5f             0        1       0       1              1   \n",
       "00190820581d90ce             0        1       0       1              0   \n",
       "\n",
       "                  comment_length  \n",
       "id                                \n",
       "0002bcb3da6cb337              44  \n",
       "0005c987bdfc9d4b             319  \n",
       "0007e25b2121310b              57  \n",
       "001810bf8c45bf5f             648  \n",
       "00190820581d90ce              40  "
      ]
     },
     "execution_count": 8,
     "metadata": {},
     "output_type": "execute_result"
    }
   ],
   "source": [
    "toxic_data = train_data[train_data['toxic'] == 1]\n",
    "toxic_data.head()"
   ]
  },
  {
   "cell_type": "code",
   "execution_count": 9,
   "id": "9103eecc",
   "metadata": {
    "execution": {
     "iopub.execute_input": "2023-12-24T09:44:32.524850Z",
     "iopub.status.busy": "2023-12-24T09:44:32.524135Z",
     "iopub.status.idle": "2023-12-24T09:44:32.531988Z",
     "shell.execute_reply": "2023-12-24T09:44:32.531072Z"
    },
    "papermill": {
     "duration": 0.021036,
     "end_time": "2023-12-24T09:44:32.533865",
     "exception": false,
     "start_time": "2023-12-24T09:44:32.512829",
     "status": "completed"
    },
    "tags": []
   },
   "outputs": [
    {
     "name": "stdout",
     "output_type": "stream",
     "text": [
      "max 5000 min 8 mean 295.24604420034 median 123.0 75% 271.0\n"
     ]
    }
   ],
   "source": [
    "print(\n",
    "    'max', toxic_data['comment_length'].max(),\n",
    "    'min', toxic_data['comment_length'].min(),\n",
    "    'mean', toxic_data['comment_length'].mean(),\n",
    "    'median', toxic_data['comment_length'].median(),\n",
    "    '75%', toxic_data['comment_length'].quantile(0.75),\n",
    ")"
   ]
  },
  {
   "cell_type": "code",
   "execution_count": 10,
   "id": "d391d882",
   "metadata": {
    "execution": {
     "iopub.execute_input": "2023-12-24T09:44:32.556191Z",
     "iopub.status.busy": "2023-12-24T09:44:32.555913Z",
     "iopub.status.idle": "2023-12-24T09:44:32.559820Z",
     "shell.execute_reply": "2023-12-24T09:44:32.559070Z"
    },
    "papermill": {
     "duration": 0.017029,
     "end_time": "2023-12-24T09:44:32.561625",
     "exception": false,
     "start_time": "2023-12-24T09:44:32.544596",
     "status": "completed"
    },
    "tags": []
   },
   "outputs": [],
   "source": [
    "max_comment_len = 300"
   ]
  },
  {
   "cell_type": "code",
   "execution_count": 11,
   "id": "a15d675b",
   "metadata": {
    "execution": {
     "iopub.execute_input": "2023-12-24T09:44:32.583647Z",
     "iopub.status.busy": "2023-12-24T09:44:32.583363Z",
     "iopub.status.idle": "2023-12-24T09:44:34.066049Z",
     "shell.execute_reply": "2023-12-24T09:44:34.065137Z"
    },
    "papermill": {
     "duration": 1.496226,
     "end_time": "2023-12-24T09:44:34.068264",
     "exception": false,
     "start_time": "2023-12-24T09:44:32.572038",
     "status": "completed"
    },
    "tags": []
   },
   "outputs": [
    {
     "data": {
      "text/html": [
       "<div>\n",
       "<style scoped>\n",
       "    .dataframe tbody tr th:only-of-type {\n",
       "        vertical-align: middle;\n",
       "    }\n",
       "\n",
       "    .dataframe tbody tr th {\n",
       "        vertical-align: top;\n",
       "    }\n",
       "\n",
       "    .dataframe thead th {\n",
       "        text-align: right;\n",
       "    }\n",
       "</style>\n",
       "<table border=\"1\" class=\"dataframe\">\n",
       "  <thead>\n",
       "    <tr style=\"text-align: right;\">\n",
       "      <th></th>\n",
       "      <th>comment_text</th>\n",
       "    </tr>\n",
       "    <tr>\n",
       "      <th>id</th>\n",
       "      <th></th>\n",
       "    </tr>\n",
       "  </thead>\n",
       "  <tbody>\n",
       "    <tr>\n",
       "      <th>00001cee341fdb12</th>\n",
       "      <td>Yo bitch Ja Rule is more succesful then you'll...</td>\n",
       "    </tr>\n",
       "    <tr>\n",
       "      <th>0000247867823ef7</th>\n",
       "      <td>== From RfC == \\n\\n The title is fine as it is...</td>\n",
       "    </tr>\n",
       "    <tr>\n",
       "      <th>00013b17ad220c46</th>\n",
       "      <td>\" \\n\\n == Sources == \\n\\n * Zawe Ashton on Lap...</td>\n",
       "    </tr>\n",
       "    <tr>\n",
       "      <th>00017563c3f7919a</th>\n",
       "      <td>:If you have a look back at the source, the in...</td>\n",
       "    </tr>\n",
       "    <tr>\n",
       "      <th>00017695ad8997eb</th>\n",
       "      <td>I don't anonymously edit articles at all.</td>\n",
       "    </tr>\n",
       "  </tbody>\n",
       "</table>\n",
       "</div>"
      ],
      "text/plain": [
       "                                                       comment_text\n",
       "id                                                                 \n",
       "00001cee341fdb12  Yo bitch Ja Rule is more succesful then you'll...\n",
       "0000247867823ef7  == From RfC == \\n\\n The title is fine as it is...\n",
       "00013b17ad220c46  \" \\n\\n == Sources == \\n\\n * Zawe Ashton on Lap...\n",
       "00017563c3f7919a  :If you have a look back at the source, the in...\n",
       "00017695ad8997eb          I don't anonymously edit articles at all."
      ]
     },
     "execution_count": 11,
     "metadata": {},
     "output_type": "execute_result"
    }
   ],
   "source": [
    "test_data = pd.read_csv('/kaggle/input/jigsaw-toxic-comment-classification-challenge/test.csv',index_col='id')\n",
    "test_data.head()"
   ]
  },
  {
   "cell_type": "code",
   "execution_count": 12,
   "id": "000204ad",
   "metadata": {
    "execution": {
     "iopub.execute_input": "2023-12-24T09:44:34.091330Z",
     "iopub.status.busy": "2023-12-24T09:44:34.091021Z",
     "iopub.status.idle": "2023-12-24T09:44:34.338743Z",
     "shell.execute_reply": "2023-12-24T09:44:34.337842Z"
    },
    "papermill": {
     "duration": 0.261763,
     "end_time": "2023-12-24T09:44:34.341013",
     "exception": false,
     "start_time": "2023-12-24T09:44:34.079250",
     "status": "completed"
    },
    "tags": []
   },
   "outputs": [
    {
     "data": {
      "text/html": [
       "<div>\n",
       "<style scoped>\n",
       "    .dataframe tbody tr th:only-of-type {\n",
       "        vertical-align: middle;\n",
       "    }\n",
       "\n",
       "    .dataframe tbody tr th {\n",
       "        vertical-align: top;\n",
       "    }\n",
       "\n",
       "    .dataframe thead th {\n",
       "        text-align: right;\n",
       "    }\n",
       "</style>\n",
       "<table border=\"1\" class=\"dataframe\">\n",
       "  <thead>\n",
       "    <tr style=\"text-align: right;\">\n",
       "      <th></th>\n",
       "      <th>toxic</th>\n",
       "      <th>severe_toxic</th>\n",
       "      <th>obscene</th>\n",
       "      <th>threat</th>\n",
       "      <th>insult</th>\n",
       "      <th>identity_hate</th>\n",
       "    </tr>\n",
       "    <tr>\n",
       "      <th>id</th>\n",
       "      <th></th>\n",
       "      <th></th>\n",
       "      <th></th>\n",
       "      <th></th>\n",
       "      <th></th>\n",
       "      <th></th>\n",
       "    </tr>\n",
       "  </thead>\n",
       "  <tbody>\n",
       "    <tr>\n",
       "      <th>00001cee341fdb12</th>\n",
       "      <td>-1</td>\n",
       "      <td>-1</td>\n",
       "      <td>-1</td>\n",
       "      <td>-1</td>\n",
       "      <td>-1</td>\n",
       "      <td>-1</td>\n",
       "    </tr>\n",
       "    <tr>\n",
       "      <th>0000247867823ef7</th>\n",
       "      <td>-1</td>\n",
       "      <td>-1</td>\n",
       "      <td>-1</td>\n",
       "      <td>-1</td>\n",
       "      <td>-1</td>\n",
       "      <td>-1</td>\n",
       "    </tr>\n",
       "    <tr>\n",
       "      <th>00013b17ad220c46</th>\n",
       "      <td>-1</td>\n",
       "      <td>-1</td>\n",
       "      <td>-1</td>\n",
       "      <td>-1</td>\n",
       "      <td>-1</td>\n",
       "      <td>-1</td>\n",
       "    </tr>\n",
       "    <tr>\n",
       "      <th>00017563c3f7919a</th>\n",
       "      <td>-1</td>\n",
       "      <td>-1</td>\n",
       "      <td>-1</td>\n",
       "      <td>-1</td>\n",
       "      <td>-1</td>\n",
       "      <td>-1</td>\n",
       "    </tr>\n",
       "    <tr>\n",
       "      <th>00017695ad8997eb</th>\n",
       "      <td>-1</td>\n",
       "      <td>-1</td>\n",
       "      <td>-1</td>\n",
       "      <td>-1</td>\n",
       "      <td>-1</td>\n",
       "      <td>-1</td>\n",
       "    </tr>\n",
       "  </tbody>\n",
       "</table>\n",
       "</div>"
      ],
      "text/plain": [
       "                  toxic  severe_toxic  obscene  threat  insult  identity_hate\n",
       "id                                                                           \n",
       "00001cee341fdb12     -1            -1       -1      -1      -1             -1\n",
       "0000247867823ef7     -1            -1       -1      -1      -1             -1\n",
       "00013b17ad220c46     -1            -1       -1      -1      -1             -1\n",
       "00017563c3f7919a     -1            -1       -1      -1      -1             -1\n",
       "00017695ad8997eb     -1            -1       -1      -1      -1             -1"
      ]
     },
     "execution_count": 12,
     "metadata": {},
     "output_type": "execute_result"
    }
   ],
   "source": [
    "test_labels_data = pd.read_csv('/kaggle/input/jigsaw-toxic-comment-classification-challenge/test_labels.csv',index_col='id')\n",
    "test_labels_data.head()\n"
   ]
  },
  {
   "cell_type": "code",
   "execution_count": 13,
   "id": "a235897c",
   "metadata": {
    "execution": {
     "iopub.execute_input": "2023-12-24T09:44:34.367337Z",
     "iopub.status.busy": "2023-12-24T09:44:34.366787Z",
     "iopub.status.idle": "2023-12-24T09:44:34.495051Z",
     "shell.execute_reply": "2023-12-24T09:44:34.494142Z"
    },
    "papermill": {
     "duration": 0.142136,
     "end_time": "2023-12-24T09:44:34.497035",
     "exception": false,
     "start_time": "2023-12-24T09:44:34.354899",
     "status": "completed"
    },
    "tags": []
   },
   "outputs": [
    {
     "data": {
      "text/html": [
       "<div>\n",
       "<style scoped>\n",
       "    .dataframe tbody tr th:only-of-type {\n",
       "        vertical-align: middle;\n",
       "    }\n",
       "\n",
       "    .dataframe tbody tr th {\n",
       "        vertical-align: top;\n",
       "    }\n",
       "\n",
       "    .dataframe thead th {\n",
       "        text-align: right;\n",
       "    }\n",
       "</style>\n",
       "<table border=\"1\" class=\"dataframe\">\n",
       "  <thead>\n",
       "    <tr style=\"text-align: right;\">\n",
       "      <th></th>\n",
       "      <th>comment_text</th>\n",
       "      <th>toxic</th>\n",
       "      <th>severe_toxic</th>\n",
       "      <th>obscene</th>\n",
       "      <th>threat</th>\n",
       "      <th>insult</th>\n",
       "      <th>identity_hate</th>\n",
       "    </tr>\n",
       "    <tr>\n",
       "      <th>id</th>\n",
       "      <th></th>\n",
       "      <th></th>\n",
       "      <th></th>\n",
       "      <th></th>\n",
       "      <th></th>\n",
       "      <th></th>\n",
       "      <th></th>\n",
       "    </tr>\n",
       "  </thead>\n",
       "  <tbody>\n",
       "    <tr>\n",
       "      <th>0001ea8717f6de06</th>\n",
       "      <td>Thank you for understanding. I think very high...</td>\n",
       "      <td>0</td>\n",
       "      <td>0</td>\n",
       "      <td>0</td>\n",
       "      <td>0</td>\n",
       "      <td>0</td>\n",
       "      <td>0</td>\n",
       "    </tr>\n",
       "    <tr>\n",
       "      <th>000247e83dcc1211</th>\n",
       "      <td>:Dear god this site is horrible.</td>\n",
       "      <td>0</td>\n",
       "      <td>0</td>\n",
       "      <td>0</td>\n",
       "      <td>0</td>\n",
       "      <td>0</td>\n",
       "      <td>0</td>\n",
       "    </tr>\n",
       "    <tr>\n",
       "      <th>0002f87b16116a7f</th>\n",
       "      <td>\"::: Somebody will invariably try to add Relig...</td>\n",
       "      <td>0</td>\n",
       "      <td>0</td>\n",
       "      <td>0</td>\n",
       "      <td>0</td>\n",
       "      <td>0</td>\n",
       "      <td>0</td>\n",
       "    </tr>\n",
       "    <tr>\n",
       "      <th>0003e1cccfd5a40a</th>\n",
       "      <td>\" \\n\\n It says it right there that it IS a typ...</td>\n",
       "      <td>0</td>\n",
       "      <td>0</td>\n",
       "      <td>0</td>\n",
       "      <td>0</td>\n",
       "      <td>0</td>\n",
       "      <td>0</td>\n",
       "    </tr>\n",
       "    <tr>\n",
       "      <th>00059ace3e3e9a53</th>\n",
       "      <td>\" \\n\\n == Before adding a new product to the l...</td>\n",
       "      <td>0</td>\n",
       "      <td>0</td>\n",
       "      <td>0</td>\n",
       "      <td>0</td>\n",
       "      <td>0</td>\n",
       "      <td>0</td>\n",
       "    </tr>\n",
       "  </tbody>\n",
       "</table>\n",
       "</div>"
      ],
      "text/plain": [
       "                                                       comment_text  toxic  \\\n",
       "id                                                                           \n",
       "0001ea8717f6de06  Thank you for understanding. I think very high...      0   \n",
       "000247e83dcc1211                   :Dear god this site is horrible.      0   \n",
       "0002f87b16116a7f  \"::: Somebody will invariably try to add Relig...      0   \n",
       "0003e1cccfd5a40a  \" \\n\\n It says it right there that it IS a typ...      0   \n",
       "00059ace3e3e9a53  \" \\n\\n == Before adding a new product to the l...      0   \n",
       "\n",
       "                  severe_toxic  obscene  threat  insult  identity_hate  \n",
       "id                                                                      \n",
       "0001ea8717f6de06             0        0       0       0              0  \n",
       "000247e83dcc1211             0        0       0       0              0  \n",
       "0002f87b16116a7f             0        0       0       0              0  \n",
       "0003e1cccfd5a40a             0        0       0       0              0  \n",
       "00059ace3e3e9a53             0        0       0       0              0  "
      ]
     },
     "execution_count": 13,
     "metadata": {},
     "output_type": "execute_result"
    }
   ],
   "source": [
    "test_data = test_data.join(test_labels_data)\n",
    "test_data = test_data[test_data['toxic'] != -1]\n",
    "test_data.head()"
   ]
  },
  {
   "cell_type": "code",
   "execution_count": 14,
   "id": "5633434d",
   "metadata": {
    "execution": {
     "iopub.execute_input": "2023-12-24T09:44:34.521067Z",
     "iopub.status.busy": "2023-12-24T09:44:34.520758Z",
     "iopub.status.idle": "2023-12-24T09:44:50.490991Z",
     "shell.execute_reply": "2023-12-24T09:44:50.489960Z"
    },
    "papermill": {
     "duration": 15.98517,
     "end_time": "2023-12-24T09:44:50.493529",
     "exception": false,
     "start_time": "2023-12-24T09:44:34.508359",
     "status": "completed"
    },
    "tags": []
   },
   "outputs": [],
   "source": [
    "num_words = 10000\n",
    "encoder = TextVectorization(max_tokens=num_words)\n",
    "encoder.adapt(train_data['comment_text'].values)\n",
    "\n",
    "from tensorflow.keras.layers import BatchNormalization\n",
    "\n",
    "model_gru = Sequential([\n",
    "    encoder,\n",
    "    Embedding(\n",
    "        input_dim=len(encoder.get_vocabulary()),\n",
    "        output_dim=128,\n",
    "        mask_zero=True,\n",
    "        input_length=max_comment_len,\n",
    "    ),\n",
    "    SpatialDropout1D(0.5),\n",
    "    GRU(20, return_sequences=True),\n",
    "    BatchNormalization(),\n",
    "    GRU(20),\n",
    "    Dense(6, activation='sigmoid'),\n",
    "])\n"
   ]
  },
  {
   "cell_type": "code",
   "execution_count": 15,
   "id": "02c20102",
   "metadata": {
    "execution": {
     "iopub.execute_input": "2023-12-24T09:44:50.517857Z",
     "iopub.status.busy": "2023-12-24T09:44:50.517106Z",
     "iopub.status.idle": "2023-12-24T09:44:50.532183Z",
     "shell.execute_reply": "2023-12-24T09:44:50.531486Z"
    },
    "papermill": {
     "duration": 0.028939,
     "end_time": "2023-12-24T09:44:50.534010",
     "exception": false,
     "start_time": "2023-12-24T09:44:50.505071",
     "status": "completed"
    },
    "tags": []
   },
   "outputs": [],
   "source": [
    "model_gru.compile(optimizer='adam', loss='binary_crossentropy', metrics=['accuracy', 'AUC'])"
   ]
  },
  {
   "cell_type": "code",
   "execution_count": 16,
   "id": "0929d5b4",
   "metadata": {
    "execution": {
     "iopub.execute_input": "2023-12-24T09:44:50.557132Z",
     "iopub.status.busy": "2023-12-24T09:44:50.556866Z",
     "iopub.status.idle": "2023-12-24T09:44:50.561090Z",
     "shell.execute_reply": "2023-12-24T09:44:50.560290Z"
    },
    "papermill": {
     "duration": 0.017834,
     "end_time": "2023-12-24T09:44:50.562879",
     "exception": false,
     "start_time": "2023-12-24T09:44:50.545045",
     "status": "completed"
    },
    "tags": []
   },
   "outputs": [],
   "source": [
    "model_gru_save_path = '/kaggle/working/toxic_model_gru'\n",
    "checkpoint_callback_gru = ModelCheckpoint(\n",
    "    model_gru_save_path, \n",
    "    monitor='val_accuracy',\n",
    "    save_best_only=True,\n",
    "    verbose=1,\n",
    "    save_format='tf',\n",
    ")"
   ]
  },
  {
   "cell_type": "code",
   "execution_count": 17,
   "id": "53980678",
   "metadata": {
    "execution": {
     "iopub.execute_input": "2023-12-24T09:44:50.586465Z",
     "iopub.status.busy": "2023-12-24T09:44:50.586219Z",
     "iopub.status.idle": "2023-12-24T09:44:51.558518Z",
     "shell.execute_reply": "2023-12-24T09:44:51.557444Z"
    },
    "papermill": {
     "duration": 0.98712,
     "end_time": "2023-12-24T09:44:51.561008",
     "exception": false,
     "start_time": "2023-12-24T09:44:50.573888",
     "status": "completed"
    },
    "tags": []
   },
   "outputs": [
    {
     "name": "stdout",
     "output_type": "stream",
     "text": [
      "rm: cannot remove '/kaggle/working/toxic_model_gru': No such file or directory\r\n"
     ]
    }
   ],
   "source": [
    "!rm -r /kaggle/working/toxic_model_gru"
   ]
  },
  {
   "cell_type": "code",
   "execution_count": 18,
   "id": "8aca388c",
   "metadata": {
    "execution": {
     "iopub.execute_input": "2023-12-24T09:44:51.585905Z",
     "iopub.status.busy": "2023-12-24T09:44:51.585124Z",
     "iopub.status.idle": "2023-12-24T09:44:51.595935Z",
     "shell.execute_reply": "2023-12-24T09:44:51.595150Z"
    },
    "papermill": {
     "duration": 0.025376,
     "end_time": "2023-12-24T09:44:51.598070",
     "exception": false,
     "start_time": "2023-12-24T09:44:51.572694",
     "status": "completed"
    },
    "tags": []
   },
   "outputs": [],
   "source": [
    "x_train1 = train_data['comment_text'].values\n",
    "y_train1 = train_data[['toxic', 'severe_toxic', 'obscene', 'threat', 'insult', 'identity_hate']].values"
   ]
  },
  {
   "cell_type": "code",
   "execution_count": 19,
   "id": "1d37912f",
   "metadata": {
    "execution": {
     "iopub.execute_input": "2023-12-24T09:44:51.622680Z",
     "iopub.status.busy": "2023-12-24T09:44:51.622362Z",
     "iopub.status.idle": "2023-12-24T09:44:51.677950Z",
     "shell.execute_reply": "2023-12-24T09:44:51.677059Z"
    },
    "papermill": {
     "duration": 0.070121,
     "end_time": "2023-12-24T09:44:51.680183",
     "exception": false,
     "start_time": "2023-12-24T09:44:51.610062",
     "status": "completed"
    },
    "tags": []
   },
   "outputs": [],
   "source": [
    "from sklearn.model_selection import train_test_split \n",
    "x_train,x_val,y_train,y_val=train_test_split(x_train1,y_train1,train_size=0.8,shuffle=True,random_state=42)"
   ]
  },
  {
   "cell_type": "code",
   "execution_count": 20,
   "id": "81a3ab56",
   "metadata": {
    "execution": {
     "iopub.execute_input": "2023-12-24T09:44:51.704045Z",
     "iopub.status.busy": "2023-12-24T09:44:51.703744Z",
     "iopub.status.idle": "2023-12-24T09:44:51.709995Z",
     "shell.execute_reply": "2023-12-24T09:44:51.709161Z"
    },
    "papermill": {
     "duration": 0.020161,
     "end_time": "2023-12-24T09:44:51.711942",
     "exception": false,
     "start_time": "2023-12-24T09:44:51.691781",
     "status": "completed"
    },
    "tags": []
   },
   "outputs": [
    {
     "data": {
      "text/plain": [
       "array(['Grandma Terri Should Burn in Trash \\nGrandma Terri is trash. I hate Grandma Terri. F%%K her to HELL! 71.74.76.40',\n",
       "       ', 9 May 2009 (UTC)\\nIt would be easiest if you were to admit to being a member of the involved Portuguese Lodge, and then there would be no requirement to acknowledge whether you had a previous account (Carlos Botelho did not have a good record) or not and I would then remove the sockpuppet template as irrelevant. WP:COI permits people to edit those articles, such as MSJapan does, but just means you have to be more careful in ensuring that references back your edits and that NPOV is upheld.   20:29'],\n",
       "      dtype=object)"
      ]
     },
     "execution_count": 20,
     "metadata": {},
     "output_type": "execute_result"
    }
   ],
   "source": [
    "x_train[:2]"
   ]
  },
  {
   "cell_type": "code",
   "execution_count": 21,
   "id": "beb03bb9",
   "metadata": {
    "execution": {
     "iopub.execute_input": "2023-12-24T09:44:51.735393Z",
     "iopub.status.busy": "2023-12-24T09:44:51.735116Z",
     "iopub.status.idle": "2023-12-24T09:44:51.740577Z",
     "shell.execute_reply": "2023-12-24T09:44:51.739777Z"
    },
    "papermill": {
     "duration": 0.019179,
     "end_time": "2023-12-24T09:44:51.742404",
     "exception": false,
     "start_time": "2023-12-24T09:44:51.723225",
     "status": "completed"
    },
    "tags": []
   },
   "outputs": [
    {
     "data": {
      "text/plain": [
       "array([[1, 0, 0, 0, 0, 0],\n",
       "       [0, 0, 0, 0, 0, 0]])"
      ]
     },
     "execution_count": 21,
     "metadata": {},
     "output_type": "execute_result"
    }
   ],
   "source": [
    "y_train[:2]"
   ]
  },
  {
   "cell_type": "code",
   "execution_count": 22,
   "id": "037b5c7a",
   "metadata": {
    "execution": {
     "iopub.execute_input": "2023-12-24T09:44:51.766007Z",
     "iopub.status.busy": "2023-12-24T09:44:51.765744Z",
     "iopub.status.idle": "2023-12-24T09:50:15.314782Z",
     "shell.execute_reply": "2023-12-24T09:50:15.313787Z"
    },
    "papermill": {
     "duration": 323.671441,
     "end_time": "2023-12-24T09:50:15.425191",
     "exception": false,
     "start_time": "2023-12-24T09:44:51.753750",
     "status": "completed"
    },
    "tags": []
   },
   "outputs": [
    {
     "name": "stdout",
     "output_type": "stream",
     "text": [
      "Epoch 1/5\n",
      "250/250 [==============================] - ETA: 0s - loss: 0.1943 - accuracy: 0.2653 - auc: 0.8123\n",
      "Epoch 1: val_accuracy improved from -inf to 0.97177, saving model to /kaggle/working/toxic_model_gru\n",
      "250/250 [==============================] - 95s 333ms/step - loss: 0.1943 - accuracy: 0.2653 - auc: 0.8123 - val_loss: 0.0836 - val_accuracy: 0.9718 - val_auc: 0.9454\n",
      "Epoch 2/5\n",
      "250/250 [==============================] - ETA: 0s - loss: 0.0644 - accuracy: 0.9832 - auc: 0.9672\n",
      "Epoch 2: val_accuracy improved from 0.97177 to 0.98881, saving model to /kaggle/working/toxic_model_gru\n",
      "250/250 [==============================] - 65s 262ms/step - loss: 0.0644 - accuracy: 0.9832 - auc: 0.9672 - val_loss: 0.0580 - val_accuracy: 0.9888 - val_auc: 0.9759\n",
      "Epoch 3/5\n",
      "250/250 [==============================] - ETA: 0s - loss: 0.0544 - accuracy: 0.9898 - auc: 0.9779\n",
      "Epoch 3: val_accuracy improved from 0.98881 to 0.99041, saving model to /kaggle/working/toxic_model_gru\n",
      "250/250 [==============================] - 56s 225ms/step - loss: 0.0544 - accuracy: 0.9898 - auc: 0.9779 - val_loss: 0.0553 - val_accuracy: 0.9904 - val_auc: 0.9763\n",
      "Epoch 4/5\n",
      "250/250 [==============================] - ETA: 0s - loss: 0.0502 - accuracy: 0.9918 - auc: 0.9808\n",
      "Epoch 4: val_accuracy improved from 0.99041 to 0.99235, saving model to /kaggle/working/toxic_model_gru\n",
      "250/250 [==============================] - 55s 219ms/step - loss: 0.0502 - accuracy: 0.9918 - auc: 0.9808 - val_loss: 0.0531 - val_accuracy: 0.9924 - val_auc: 0.9747\n",
      "Epoch 5/5\n",
      "250/250 [==============================] - ETA: 0s - loss: 0.0477 - accuracy: 0.9925 - auc: 0.9819\n",
      "Epoch 5: val_accuracy improved from 0.99235 to 0.99314, saving model to /kaggle/working/toxic_model_gru\n",
      "250/250 [==============================] - 53s 211ms/step - loss: 0.0477 - accuracy: 0.9925 - auc: 0.9819 - val_loss: 0.0545 - val_accuracy: 0.9931 - val_auc: 0.9788\n"
     ]
    }
   ],
   "source": [
    "history_gru = model_gru.fit(\n",
    "    x_train, \n",
    "    y_train, \n",
    "    epochs=5, # 15\n",
    "    batch_size=512,\n",
    "    validation_data=(x_val,y_val),\n",
    "    callbacks=[checkpoint_callback_gru],\n",
    ")"
   ]
  },
  {
   "cell_type": "code",
   "execution_count": 23,
   "id": "058df2e4",
   "metadata": {
    "execution": {
     "iopub.execute_input": "2023-12-24T09:50:15.647332Z",
     "iopub.status.busy": "2023-12-24T09:50:15.646845Z",
     "iopub.status.idle": "2023-12-24T09:50:16.204213Z",
     "shell.execute_reply": "2023-12-24T09:50:16.203276Z"
    },
    "papermill": {
     "duration": 0.672468,
     "end_time": "2023-12-24T09:50:16.206251",
     "exception": false,
     "start_time": "2023-12-24T09:50:15.533783",
     "status": "completed"
    },
    "tags": []
   },
   "outputs": [
    {
     "data": {
      "image/png": "[encoded data removed]",
      "text/plain": [
       "<Figure size 640x480 with 1 Axes>"
      ]
     },
     "metadata": {},
     "output_type": "display_data"
    },
    {
     "data": {
      "image/png": "[encoded data removed]",
      "text/plain": [
       "<Figure size 640x480 with 1 Axes>"
      ]
     },
     "metadata": {},
     "output_type": "display_data"
    }
   ],
   "source": [
    "plt.plot(history_gru.history['accuracy'], \n",
    "         label='Training accuracy')\n",
    "plt.plot(history_gru.history['val_accuracy'], \n",
    "         label='Validation accuracy')\n",
    "plt.xlabel('Epochs')\n",
    "plt.ylabel('Accuracy')\n",
    "plt.legend()\n",
    "plt.show()\n",
    "plt.plot(history_gru.history['loss'], \n",
    "         label='Training loss')\n",
    "plt.plot(history_gru.history['val_loss'], \n",
    "         label='Validation loss')\n",
    "plt.xlabel('Epochs')\n",
    "plt.ylabel('Loss')\n",
    "plt.legend()\n",
    "plt.show()"
   ]
  },
  {
   "cell_type": "code",
   "execution_count": 24,
   "id": "54c575c1",
   "metadata": {
    "execution": {
     "iopub.execute_input": "2023-12-24T09:50:16.429709Z",
     "iopub.status.busy": "2023-12-24T09:50:16.428811Z",
     "iopub.status.idle": "2023-12-24T09:50:16.435464Z",
     "shell.execute_reply": "2023-12-24T09:50:16.434520Z"
    },
    "papermill": {
     "duration": 0.120445,
     "end_time": "2023-12-24T09:50:16.437595",
     "exception": false,
     "start_time": "2023-12-24T09:50:16.317150",
     "status": "completed"
    },
    "tags": []
   },
   "outputs": [],
   "source": [
    "x_test = test_data['comment_text'].values\n",
    "y_test = test_data[['toxic', 'severe_toxic', 'obscene', 'threat', 'insult', 'identity_hate']].values"
   ]
  },
  {
   "cell_type": "code",
   "execution_count": 25,
   "id": "7aa94775",
   "metadata": {
    "execution": {
     "iopub.execute_input": "2023-12-24T09:50:16.660001Z",
     "iopub.status.busy": "2023-12-24T09:50:16.659660Z",
     "iopub.status.idle": "2023-12-24T09:50:47.786895Z",
     "shell.execute_reply": "2023-12-24T09:50:47.785952Z"
    },
    "papermill": {
     "duration": 31.240736,
     "end_time": "2023-12-24T09:50:47.789020",
     "exception": false,
     "start_time": "2023-12-24T09:50:16.548284",
     "status": "completed"
    },
    "tags": []
   },
   "outputs": [
    {
     "name": "stdout",
     "output_type": "stream",
     "text": [
      "2000/2000 [==============================] - 31s 16ms/step - loss: 0.0948 - accuracy: 0.9960 - auc: 0.9673\n"
     ]
    },
    {
     "data": {
      "text/plain": [
       "[0.09483090043067932, 0.9960299134254456, 0.9673377275466919]"
      ]
     },
     "execution_count": 25,
     "metadata": {},
     "output_type": "execute_result"
    }
   ],
   "source": [
    "model_gru.evaluate(x_test, y_test, verbose=1)"
   ]
  },
  {
   "cell_type": "code",
   "execution_count": 26,
   "id": "826af830",
   "metadata": {
    "execution": {
     "iopub.execute_input": "2023-12-24T09:50:48.095123Z",
     "iopub.status.busy": "2023-12-24T09:50:48.094364Z",
     "iopub.status.idle": "2023-12-24T09:50:55.898889Z",
     "shell.execute_reply": "2023-12-24T09:50:55.897925Z"
    },
    "papermill": {
     "duration": 7.960033,
     "end_time": "2023-12-24T09:50:55.901281",
     "exception": false,
     "start_time": "2023-12-24T09:50:47.941248",
     "status": "completed"
    },
    "tags": []
   },
   "outputs": [],
   "source": [
    "saved_model = load_model(model_gru_save_path)"
   ]
  },
  {
   "cell_type": "code",
   "execution_count": 27,
   "id": "4c7aa82a",
   "metadata": {
    "execution": {
     "iopub.execute_input": "2023-12-24T09:50:56.213374Z",
     "iopub.status.busy": "2023-12-24T09:50:56.212998Z",
     "iopub.status.idle": "2023-12-24T09:50:56.230779Z",
     "shell.execute_reply": "2023-12-24T09:50:56.229850Z"
    },
    "papermill": {
     "duration": 0.176101,
     "end_time": "2023-12-24T09:50:56.232730",
     "exception": false,
     "start_time": "2023-12-24T09:50:56.056629",
     "status": "completed"
    },
    "tags": []
   },
   "outputs": [
    {
     "data": {
      "text/html": [
       "<div>\n",
       "<style scoped>\n",
       "    .dataframe tbody tr th:only-of-type {\n",
       "        vertical-align: middle;\n",
       "    }\n",
       "\n",
       "    .dataframe tbody tr th {\n",
       "        vertical-align: top;\n",
       "    }\n",
       "\n",
       "    .dataframe thead th {\n",
       "        text-align: right;\n",
       "    }\n",
       "</style>\n",
       "<table border=\"1\" class=\"dataframe\">\n",
       "  <thead>\n",
       "    <tr style=\"text-align: right;\">\n",
       "      <th></th>\n",
       "      <th>comment_text</th>\n",
       "      <th>toxic</th>\n",
       "      <th>severe_toxic</th>\n",
       "      <th>obscene</th>\n",
       "      <th>threat</th>\n",
       "      <th>insult</th>\n",
       "      <th>identity_hate</th>\n",
       "    </tr>\n",
       "    <tr>\n",
       "      <th>id</th>\n",
       "      <th></th>\n",
       "      <th></th>\n",
       "      <th></th>\n",
       "      <th></th>\n",
       "      <th></th>\n",
       "      <th></th>\n",
       "      <th></th>\n",
       "    </tr>\n",
       "  </thead>\n",
       "  <tbody>\n",
       "    <tr>\n",
       "      <th>00091c35fa9d0465</th>\n",
       "      <td>== Arabs are committing genocide in Iraq, but ...</td>\n",
       "      <td>1</td>\n",
       "      <td>0</td>\n",
       "      <td>0</td>\n",
       "      <td>0</td>\n",
       "      <td>0</td>\n",
       "      <td>0</td>\n",
       "    </tr>\n",
       "    <tr>\n",
       "      <th>0013fed3aeae76b7</th>\n",
       "      <td>DJ Robinson is gay as hell! he sucks his dick ...</td>\n",
       "      <td>1</td>\n",
       "      <td>0</td>\n",
       "      <td>1</td>\n",
       "      <td>0</td>\n",
       "      <td>1</td>\n",
       "      <td>1</td>\n",
       "    </tr>\n",
       "    <tr>\n",
       "      <th>0017d4d47894af05</th>\n",
       "      <td>:Fuck off, you anti-semitic cunt.  |</td>\n",
       "      <td>1</td>\n",
       "      <td>0</td>\n",
       "      <td>1</td>\n",
       "      <td>0</td>\n",
       "      <td>1</td>\n",
       "      <td>0</td>\n",
       "    </tr>\n",
       "    <tr>\n",
       "      <th>001d739c97bc2ae4</th>\n",
       "      <td>How dare you vandalize that page about the HMS...</td>\n",
       "      <td>1</td>\n",
       "      <td>0</td>\n",
       "      <td>0</td>\n",
       "      <td>0</td>\n",
       "      <td>0</td>\n",
       "      <td>0</td>\n",
       "    </tr>\n",
       "    <tr>\n",
       "      <th>001eff4007dbb65b</th>\n",
       "      <td>::No, he is an arrogant, self serving, immatur...</td>\n",
       "      <td>1</td>\n",
       "      <td>0</td>\n",
       "      <td>1</td>\n",
       "      <td>0</td>\n",
       "      <td>1</td>\n",
       "      <td>0</td>\n",
       "    </tr>\n",
       "  </tbody>\n",
       "</table>\n",
       "</div>"
      ],
      "text/plain": [
       "                                                       comment_text  toxic  \\\n",
       "id                                                                           \n",
       "00091c35fa9d0465  == Arabs are committing genocide in Iraq, but ...      1   \n",
       "0013fed3aeae76b7  DJ Robinson is gay as hell! he sucks his dick ...      1   \n",
       "0017d4d47894af05               :Fuck off, you anti-semitic cunt.  |      1   \n",
       "001d739c97bc2ae4  How dare you vandalize that page about the HMS...      1   \n",
       "001eff4007dbb65b  ::No, he is an arrogant, self serving, immatur...      1   \n",
       "\n",
       "                  severe_toxic  obscene  threat  insult  identity_hate  \n",
       "id                                                                      \n",
       "00091c35fa9d0465             0        0       0       0              0  \n",
       "0013fed3aeae76b7             0        1       0       1              1  \n",
       "0017d4d47894af05             0        1       0       1              0  \n",
       "001d739c97bc2ae4             0        0       0       0              0  \n",
       "001eff4007dbb65b             0        1       0       1              0  "
      ]
     },
     "execution_count": 27,
     "metadata": {},
     "output_type": "execute_result"
    }
   ],
   "source": [
    "test_data[test_data['toxic']==1][:5]"
   ]
  },
  {
   "cell_type": "code",
   "execution_count": 28,
   "id": "65313f32",
   "metadata": {
    "execution": {
     "iopub.execute_input": "2023-12-24T09:50:56.544007Z",
     "iopub.status.busy": "2023-12-24T09:50:56.543315Z",
     "iopub.status.idle": "2023-12-24T09:50:56.552527Z",
     "shell.execute_reply": "2023-12-24T09:50:56.551617Z"
    },
    "papermill": {
     "duration": 0.164283,
     "end_time": "2023-12-24T09:50:56.554429",
     "exception": false,
     "start_time": "2023-12-24T09:50:56.390146",
     "status": "completed"
    },
    "tags": []
   },
   "outputs": [
    {
     "data": {
      "text/plain": [
       "array(['== Arabs are committing genocide in Iraq, but no protests in Europe. == \\n\\n May Europe also burn in hell.',\n",
       "       'DJ Robinson is gay as hell! he sucks his dick so much!!!!!',\n",
       "       ':Fuck off, you anti-semitic cunt.  |',\n",
       "       \"How dare you vandalize that page about the HMS Beagle! Don't vandalize again, demon!\",\n",
       "       '::No, he is an arrogant, self serving, immature idiot. Get it right.'],\n",
       "      dtype=object)"
      ]
     },
     "execution_count": 28,
     "metadata": {},
     "output_type": "execute_result"
    }
   ],
   "source": [
    "test_data[test_data['toxic']==1][:5]['comment_text'].values"
   ]
  },
  {
   "cell_type": "code",
   "execution_count": null,
   "id": "e2cebed6",
   "metadata": {
    "papermill": {
     "duration": 0.154138,
     "end_time": "2023-12-24T09:50:56.862414",
     "exception": false,
     "start_time": "2023-12-24T09:50:56.708276",
     "status": "completed"
    },
    "tags": []
   },
   "outputs": [],
   "source": []
  },
  {
   "cell_type": "code",
   "execution_count": 29,
   "id": "9efe6f90",
   "metadata": {
    "execution": {
     "iopub.execute_input": "2023-12-24T09:50:57.169567Z",
     "iopub.status.busy": "2023-12-24T09:50:57.169185Z",
     "iopub.status.idle": "2023-12-24T09:50:59.602340Z",
     "shell.execute_reply": "2023-12-24T09:50:59.601332Z"
    },
    "papermill": {
     "duration": 2.589301,
     "end_time": "2023-12-24T09:50:59.604261",
     "exception": false,
     "start_time": "2023-12-24T09:50:57.014960",
     "status": "completed"
    },
    "tags": []
   },
   "outputs": [
    {
     "name": "stdout",
     "output_type": "stream",
     "text": [
      "1/1 [==============================] - 2s 2s/step\n",
      "[0.51, 0.01, 0.12, 0.0, 0.14, 0.01]\n",
      "[0.95, 0.12, 0.83, 0.03, 0.72, 0.1]\n",
      "[0.98, 0.44, 0.95, 0.11, 0.93, 0.25]\n",
      "[0.41, 0.01, 0.04, 0.01, 0.07, 0.01]\n",
      "[0.97, 0.15, 0.81, 0.05, 0.78, 0.13]\n"
     ]
    }
   ],
   "source": [
    "test_labels = saved_model.predict(test_data[test_data['toxic']==1][:5]['comment_text'].values)\n",
    "for labels in test_labels:\n",
    "    print([ round(lbl, 2) for lbl in labels])"
   ]
  },
  {
   "cell_type": "code",
   "execution_count": 30,
   "id": "f8b44983",
   "metadata": {
    "execution": {
     "iopub.execute_input": "2023-12-24T09:50:59.914983Z",
     "iopub.status.busy": "2023-12-24T09:50:59.914610Z",
     "iopub.status.idle": "2023-12-24T09:51:14.526397Z",
     "shell.execute_reply": "2023-12-24T09:51:14.524937Z"
    },
    "papermill": {
     "duration": 14.770753,
     "end_time": "2023-12-24T09:51:14.528366",
     "exception": false,
     "start_time": "2023-12-24T09:50:59.757613",
     "status": "completed"
    },
    "tags": []
   },
   "outputs": [
    {
     "name": "stdout",
     "output_type": "stream",
     "text": [
      "998/998 [==============================] - 13s 13ms/step\n"
     ]
    },
    {
     "name": "stderr",
     "output_type": "stream",
     "text": [
      "/opt/conda/lib/python3.10/site-packages/sklearn/metrics/_classification.py:1344: UndefinedMetricWarning: Precision and F-score are ill-defined and being set to 0.0 in samples with no predicted labels. Use `zero_division` parameter to control this behavior.\n",
      "  _warn_prf(average, modifier, msg_start, len(result))\n",
      "/opt/conda/lib/python3.10/site-packages/sklearn/metrics/_classification.py:1344: UndefinedMetricWarning: Recall and F-score are ill-defined and being set to 0.0 in samples with no true labels. Use `zero_division` parameter to control this behavior.\n",
      "  _warn_prf(average, modifier, msg_start, len(result))\n",
      "/opt/conda/lib/python3.10/site-packages/sklearn/metrics/_classification.py:1344: UndefinedMetricWarning: Precision and F-score are ill-defined and being set to 0.0 in samples with no predicted labels. Use `zero_division` parameter to control this behavior.\n",
      "  _warn_prf(average, modifier, msg_start, len(result))\n",
      "/opt/conda/lib/python3.10/site-packages/sklearn/metrics/_classification.py:1344: UndefinedMetricWarning: Recall and F-score are ill-defined and being set to 0.0 in samples with no true labels. Use `zero_division` parameter to control this behavior.\n",
      "  _warn_prf(average, modifier, msg_start, len(result))\n",
      "/opt/conda/lib/python3.10/site-packages/sklearn/metrics/_classification.py:1344: UndefinedMetricWarning: Precision and F-score are ill-defined and being set to 0.0 in samples with no predicted labels. Use `zero_division` parameter to control this behavior.\n",
      "  _warn_prf(average, modifier, msg_start, len(result))\n",
      "/opt/conda/lib/python3.10/site-packages/sklearn/metrics/_classification.py:1344: UndefinedMetricWarning: Recall and F-score are ill-defined and being set to 0.0 in samples with no true labels. Use `zero_division` parameter to control this behavior.\n",
      "  _warn_prf(average, modifier, msg_start, len(result))\n"
     ]
    },
    {
     "name": "stdout",
     "output_type": "stream",
     "text": [
      "Threshold: 0.1\n",
      "Classification Report:\n",
      "----------------------\n",
      "              precision    recall  f1-score   support\n",
      "\n",
      "           0       0.48      0.93      0.63      3056\n",
      "           1       0.22      0.92      0.36       321\n",
      "           2       0.51      0.95      0.66      1715\n",
      "           3       0.05      0.24      0.09        74\n",
      "           4       0.43      0.94      0.59      1614\n",
      "           5       0.13      0.57      0.21       294\n",
      "\n",
      "   micro avg       0.42      0.91      0.57      7074\n",
      "   macro avg       0.31      0.76      0.43      7074\n",
      "weighted avg       0.45      0.91      0.60      7074\n",
      " samples avg       0.06      0.09      0.07      7074\n",
      "\n",
      "F1 Score: 0.5963506512104878\n",
      "Precision: 0.44741510869558687\n",
      "Recall: 0.9112242013005372\n",
      "\n",
      "Accuracy: 0.8243772520758265\n",
      "\n",
      "Threshold: 0.2\n",
      "Classification Report:\n",
      "----------------------\n",
      "              precision    recall  f1-score   support\n",
      "\n",
      "           0       0.57      0.89      0.69      3056\n",
      "           1       0.30      0.79      0.43       321\n",
      "           2       0.60      0.92      0.73      1715\n",
      "           3       0.20      0.05      0.09        74\n",
      "           4       0.53      0.88      0.66      1614\n",
      "           5       0.17      0.27      0.21       294\n",
      "\n",
      "   micro avg       0.53      0.86      0.65      7074\n",
      "   macro avg       0.39      0.63      0.47      7074\n",
      "weighted avg       0.53      0.86      0.66      7074\n",
      " samples avg       0.06      0.08      0.07      7074\n",
      "\n",
      "F1 Score: 0.6561939390590347\n",
      "Precision: 0.5346533141622737\n",
      "Recall: 0.8567995476392423\n",
      "\n",
      "Accuracy: 0.8633871220429266\n",
      "\n",
      "Threshold: 0.3\n",
      "Classification Report:\n",
      "----------------------\n",
      "              precision    recall  f1-score   support\n",
      "\n",
      "           0       0.63      0.86      0.73      3056\n",
      "           1       0.38      0.61      0.47       321\n",
      "           2       0.67      0.89      0.76      1715\n",
      "           3       0.50      0.01      0.03        74\n",
      "           4       0.59      0.84      0.70      1614\n",
      "           5       0.29      0.04      0.07       294\n",
      "\n",
      "   micro avg       0.62      0.81      0.70      7074\n",
      "   macro avg       0.51      0.54      0.46      7074\n",
      "weighted avg       0.61      0.81      0.68      7074\n",
      " samples avg       0.07      0.08      0.07      7074\n",
      "\n",
      "F1 Score: 0.6834605342558077\n",
      "Precision: 0.605241269062645\n",
      "Recall: 0.8088775798699462\n",
      "\n",
      "Accuracy: 0.8870123766254112\n",
      "\n"
     ]
    },
    {
     "name": "stderr",
     "output_type": "stream",
     "text": [
      "/opt/conda/lib/python3.10/site-packages/sklearn/metrics/_classification.py:1344: UndefinedMetricWarning: Precision and F-score are ill-defined and being set to 0.0 in labels with no predicted samples. Use `zero_division` parameter to control this behavior.\n",
      "  _warn_prf(average, modifier, msg_start, len(result))\n",
      "/opt/conda/lib/python3.10/site-packages/sklearn/metrics/_classification.py:1344: UndefinedMetricWarning: Precision and F-score are ill-defined and being set to 0.0 in samples with no predicted labels. Use `zero_division` parameter to control this behavior.\n",
      "  _warn_prf(average, modifier, msg_start, len(result))\n",
      "/opt/conda/lib/python3.10/site-packages/sklearn/metrics/_classification.py:1344: UndefinedMetricWarning: Recall and F-score are ill-defined and being set to 0.0 in samples with no true labels. Use `zero_division` parameter to control this behavior.\n",
      "  _warn_prf(average, modifier, msg_start, len(result))\n",
      "/opt/conda/lib/python3.10/site-packages/sklearn/metrics/_classification.py:1344: UndefinedMetricWarning: Precision is ill-defined and being set to 0.0 in labels with no predicted samples. Use `zero_division` parameter to control this behavior.\n",
      "  _warn_prf(average, modifier, msg_start, len(result))\n",
      "/opt/conda/lib/python3.10/site-packages/sklearn/metrics/_classification.py:1344: UndefinedMetricWarning: Precision and F-score are ill-defined and being set to 0.0 in labels with no predicted samples. Use `zero_division` parameter to control this behavior.\n",
      "  _warn_prf(average, modifier, msg_start, len(result))\n",
      "/opt/conda/lib/python3.10/site-packages/sklearn/metrics/_classification.py:1344: UndefinedMetricWarning: Precision and F-score are ill-defined and being set to 0.0 in samples with no predicted labels. Use `zero_division` parameter to control this behavior.\n",
      "  _warn_prf(average, modifier, msg_start, len(result))\n",
      "/opt/conda/lib/python3.10/site-packages/sklearn/metrics/_classification.py:1344: UndefinedMetricWarning: Recall and F-score are ill-defined and being set to 0.0 in samples with no true labels. Use `zero_division` parameter to control this behavior.\n",
      "  _warn_prf(average, modifier, msg_start, len(result))\n",
      "/opt/conda/lib/python3.10/site-packages/sklearn/metrics/_classification.py:1344: UndefinedMetricWarning: Precision is ill-defined and being set to 0.0 in labels with no predicted samples. Use `zero_division` parameter to control this behavior.\n",
      "  _warn_prf(average, modifier, msg_start, len(result))\n",
      "/opt/conda/lib/python3.10/site-packages/sklearn/metrics/_classification.py:1344: UndefinedMetricWarning: Precision and F-score are ill-defined and being set to 0.0 in labels with no predicted samples. Use `zero_division` parameter to control this behavior.\n",
      "  _warn_prf(average, modifier, msg_start, len(result))\n",
      "/opt/conda/lib/python3.10/site-packages/sklearn/metrics/_classification.py:1344: UndefinedMetricWarning: Precision and F-score are ill-defined and being set to 0.0 in samples with no predicted labels. Use `zero_division` parameter to control this behavior.\n",
      "  _warn_prf(average, modifier, msg_start, len(result))\n",
      "/opt/conda/lib/python3.10/site-packages/sklearn/metrics/_classification.py:1344: UndefinedMetricWarning: Recall and F-score are ill-defined and being set to 0.0 in samples with no true labels. Use `zero_division` parameter to control this behavior.\n",
      "  _warn_prf(average, modifier, msg_start, len(result))\n"
     ]
    },
    {
     "name": "stdout",
     "output_type": "stream",
     "text": [
      "Threshold: 0.4\n",
      "Classification Report:\n",
      "----------------------\n",
      "              precision    recall  f1-score   support\n",
      "\n",
      "           0       0.69      0.83      0.76      3056\n",
      "           1       0.48      0.39      0.43       321\n",
      "           2       0.72      0.87      0.79      1715\n",
      "           3       0.00      0.00      0.00        74\n",
      "           4       0.65      0.79      0.71      1614\n",
      "           5       0.25      0.01      0.02       294\n",
      "\n",
      "   micro avg       0.68      0.77      0.72      7074\n",
      "   macro avg       0.46      0.48      0.45      7074\n",
      "weighted avg       0.65      0.77      0.70      7074\n",
      " samples avg       0.07      0.07      0.07      7074\n",
      "\n",
      "F1 Score: 0.7006273054014003\n",
      "Precision: 0.6536701299768231\n",
      "Recall: 0.7694373763076053\n",
      "\n",
      "Accuracy: 0.9012376625411249\n",
      "\n",
      "Threshold: 0.5\n",
      "Classification Report:\n",
      "----------------------\n",
      "              precision    recall  f1-score   support\n",
      "\n",
      "           0       0.76      0.80      0.78      3056\n",
      "           1       0.49      0.09      0.15       321\n",
      "           2       0.76      0.83      0.80      1715\n",
      "           3       0.00      0.00      0.00        74\n",
      "           4       0.68      0.74      0.71      1614\n",
      "           5       0.00      0.00      0.00       294\n",
      "\n",
      "   micro avg       0.74      0.72      0.73      7074\n",
      "   macro avg       0.45      0.41      0.41      7074\n",
      "weighted avg       0.69      0.72      0.70      7074\n",
      " samples avg       0.07      0.07      0.07      7074\n",
      "\n",
      "F1 Score: 0.6991660986723306\n",
      "Precision: 0.6914919851775013\n",
      "Recall: 0.7213740458015268\n",
      "\n",
      "Accuracy: 0.9105749647501175\n",
      "\n",
      "Threshold: 0.6\n",
      "Classification Report:\n",
      "----------------------\n",
      "              precision    recall  f1-score   support\n",
      "\n",
      "           0       0.81      0.76      0.78      3056\n",
      "           1       0.00      0.00      0.00       321\n",
      "           2       0.80      0.79      0.80      1715\n",
      "           3       0.00      0.00      0.00        74\n",
      "           4       0.72      0.67      0.69      1614\n",
      "           5       0.00      0.00      0.00       294\n",
      "\n",
      "   micro avg       0.78      0.68      0.73      7074\n",
      "   macro avg       0.39      0.37      0.38      7074\n",
      "weighted avg       0.71      0.68      0.69      7074\n",
      " samples avg       0.07      0.06      0.06      7074\n",
      "\n",
      "F1 Score: 0.6907161455570185\n",
      "Precision: 0.7070403653246925\n",
      "Recall: 0.6752897936104043\n",
      "\n",
      "Accuracy: 0.9149929500234999\n",
      "\n"
     ]
    },
    {
     "name": "stderr",
     "output_type": "stream",
     "text": [
      "/opt/conda/lib/python3.10/site-packages/sklearn/metrics/_classification.py:1344: UndefinedMetricWarning: Precision is ill-defined and being set to 0.0 in labels with no predicted samples. Use `zero_division` parameter to control this behavior.\n",
      "  _warn_prf(average, modifier, msg_start, len(result))\n",
      "/opt/conda/lib/python3.10/site-packages/sklearn/metrics/_classification.py:1344: UndefinedMetricWarning: Precision and F-score are ill-defined and being set to 0.0 in labels with no predicted samples. Use `zero_division` parameter to control this behavior.\n",
      "  _warn_prf(average, modifier, msg_start, len(result))\n",
      "/opt/conda/lib/python3.10/site-packages/sklearn/metrics/_classification.py:1344: UndefinedMetricWarning: Precision and F-score are ill-defined and being set to 0.0 in samples with no predicted labels. Use `zero_division` parameter to control this behavior.\n",
      "  _warn_prf(average, modifier, msg_start, len(result))\n",
      "/opt/conda/lib/python3.10/site-packages/sklearn/metrics/_classification.py:1344: UndefinedMetricWarning: Recall and F-score are ill-defined and being set to 0.0 in samples with no true labels. Use `zero_division` parameter to control this behavior.\n",
      "  _warn_prf(average, modifier, msg_start, len(result))\n",
      "/opt/conda/lib/python3.10/site-packages/sklearn/metrics/_classification.py:1344: UndefinedMetricWarning: Precision is ill-defined and being set to 0.0 in labels with no predicted samples. Use `zero_division` parameter to control this behavior.\n",
      "  _warn_prf(average, modifier, msg_start, len(result))\n",
      "/opt/conda/lib/python3.10/site-packages/sklearn/metrics/_classification.py:1344: UndefinedMetricWarning: Precision and F-score are ill-defined and being set to 0.0 in labels with no predicted samples. Use `zero_division` parameter to control this behavior.\n",
      "  _warn_prf(average, modifier, msg_start, len(result))\n",
      "/opt/conda/lib/python3.10/site-packages/sklearn/metrics/_classification.py:1344: UndefinedMetricWarning: Precision and F-score are ill-defined and being set to 0.0 in samples with no predicted labels. Use `zero_division` parameter to control this behavior.\n",
      "  _warn_prf(average, modifier, msg_start, len(result))\n",
      "/opt/conda/lib/python3.10/site-packages/sklearn/metrics/_classification.py:1344: UndefinedMetricWarning: Recall and F-score are ill-defined and being set to 0.0 in samples with no true labels. Use `zero_division` parameter to control this behavior.\n",
      "  _warn_prf(average, modifier, msg_start, len(result))\n",
      "/opt/conda/lib/python3.10/site-packages/sklearn/metrics/_classification.py:1344: UndefinedMetricWarning: Precision is ill-defined and being set to 0.0 in labels with no predicted samples. Use `zero_division` parameter to control this behavior.\n",
      "  _warn_prf(average, modifier, msg_start, len(result))\n",
      "/opt/conda/lib/python3.10/site-packages/sklearn/metrics/_classification.py:1344: UndefinedMetricWarning: Precision and F-score are ill-defined and being set to 0.0 in labels with no predicted samples. Use `zero_division` parameter to control this behavior.\n",
      "  _warn_prf(average, modifier, msg_start, len(result))\n",
      "/opt/conda/lib/python3.10/site-packages/sklearn/metrics/_classification.py:1344: UndefinedMetricWarning: Precision and F-score are ill-defined and being set to 0.0 in samples with no predicted labels. Use `zero_division` parameter to control this behavior.\n",
      "  _warn_prf(average, modifier, msg_start, len(result))\n",
      "/opt/conda/lib/python3.10/site-packages/sklearn/metrics/_classification.py:1344: UndefinedMetricWarning: Recall and F-score are ill-defined and being set to 0.0 in samples with no true labels. Use `zero_division` parameter to control this behavior.\n",
      "  _warn_prf(average, modifier, msg_start, len(result))\n"
     ]
    },
    {
     "name": "stdout",
     "output_type": "stream",
     "text": [
      "Threshold: 0.7\n",
      "Classification Report:\n",
      "----------------------\n",
      "              precision    recall  f1-score   support\n",
      "\n",
      "           0       0.86      0.71      0.78      3056\n",
      "           1       0.00      0.00      0.00       321\n",
      "           2       0.84      0.74      0.79      1715\n",
      "           3       0.00      0.00      0.00        74\n",
      "           4       0.75      0.59      0.66      1614\n",
      "           5       0.00      0.00      0.00       294\n",
      "\n",
      "   micro avg       0.83      0.62      0.71      7074\n",
      "   macro avg       0.41      0.34      0.37      7074\n",
      "weighted avg       0.75      0.62      0.68      7074\n",
      " samples avg       0.06      0.06      0.06      7074\n",
      "\n",
      "F1 Score: 0.6781755226354276\n",
      "Precision: 0.7463988001128748\n",
      "Recall: 0.6218546791065875\n",
      "\n",
      "Accuracy: 0.9169356102146327\n",
      "\n",
      "Threshold: 0.8\n",
      "Classification Report:\n",
      "----------------------\n",
      "              precision    recall  f1-score   support\n",
      "\n",
      "           0       0.90      0.65      0.75      3056\n",
      "           1       0.00      0.00      0.00       321\n",
      "           2       0.89      0.66      0.76      1715\n",
      "           3       0.00      0.00      0.00        74\n",
      "           4       0.81      0.45      0.58      1614\n",
      "           5       0.00      0.00      0.00       294\n",
      "\n",
      "   micro avg       0.88      0.54      0.67      7074\n",
      "   macro avg       0.43      0.29      0.35      7074\n",
      "weighted avg       0.79      0.54      0.64      7074\n",
      " samples avg       0.06      0.05      0.05      7074\n",
      "\n",
      "F1 Score: 0.6409100407172361\n",
      "Precision: 0.7902502658919084\n",
      "Recall: 0.5414192818772972\n",
      "\n",
      "Accuracy: 0.9158702804323986\n",
      "\n",
      "Threshold: 0.9\n",
      "Classification Report:\n",
      "----------------------\n",
      "              precision    recall  f1-score   support\n",
      "\n",
      "           0       0.96      0.54      0.69      3056\n",
      "           1       0.00      0.00      0.00       321\n",
      "           2       0.95      0.39      0.55      1715\n",
      "           3       0.00      0.00      0.00        74\n",
      "           4       0.88      0.20      0.33      1614\n",
      "           5       0.00      0.00      0.00       294\n",
      "\n",
      "   micro avg       0.94      0.37      0.53      7074\n",
      "   macro avg       0.46      0.19      0.26      7074\n",
      "weighted avg       0.84      0.37      0.51      7074\n",
      " samples avg       0.05      0.03      0.04      7074\n",
      "\n",
      "F1 Score: 0.5066461923530571\n",
      "Precision: 0.8435687516145185\n",
      "Recall: 0.37305626236923944\n",
      "\n",
      "Accuracy: 0.9087263042456525\n",
      "\n"
     ]
    },
    {
     "name": "stderr",
     "output_type": "stream",
     "text": [
      "/opt/conda/lib/python3.10/site-packages/sklearn/metrics/_classification.py:1344: UndefinedMetricWarning: Precision is ill-defined and being set to 0.0 in labels with no predicted samples. Use `zero_division` parameter to control this behavior.\n",
      "  _warn_prf(average, modifier, msg_start, len(result))\n"
     ]
    }
   ],
   "source": [
    "from sklearn.metrics import classification_report\n",
    "from sklearn.metrics import f1_score, precision_score, recall_score, accuracy_score\n",
    "\n",
    "thresholds = [0.1, 0.2, 0.3, 0.4, 0.5, 0.6, 0.7, 0.8, 0.9]\n",
    "\n",
    "predicts_val = saved_model.predict(x_val, verbose=1)\n",
    "\n",
    "for threshold in thresholds:\n",
    "  y_pred_val = (predicts_val > threshold)\n",
    "  clr = classification_report(y_val, y_pred_val)\n",
    "  accuracy = accuracy_score(y_val, y_pred_val)\n",
    "  f1 = f1_score(y_val, y_pred_val, average='weighted')\n",
    "  precision = precision_score(y_val, y_pred_val, average='weighted')\n",
    "  recall = recall_score(y_val, y_pred_val, average='weighted')\n",
    "  print(f\"Threshold: {threshold}\\nClassification Report:\\n----------------------\\n{clr}\\nF1 Score: {f1}\\nPrecision: {precision}\\nRecall: {recall}\\n\\nAccuracy: {accuracy}\\n\")"
   ]
  },
  {
   "cell_type": "code",
   "execution_count": 31,
   "id": "0f0e8f9b",
   "metadata": {
    "execution": {
     "iopub.execute_input": "2023-12-24T09:51:14.930149Z",
     "iopub.status.busy": "2023-12-24T09:51:14.929522Z",
     "iopub.status.idle": "2023-12-24T09:51:45.301519Z",
     "shell.execute_reply": "2023-12-24T09:51:45.300601Z"
    },
    "papermill": {
     "duration": 30.614718,
     "end_time": "2023-12-24T09:51:45.371769",
     "exception": false,
     "start_time": "2023-12-24T09:51:14.757051",
     "status": "completed"
    },
    "tags": []
   },
   "outputs": [
    {
     "name": "stdout",
     "output_type": "stream",
     "text": [
      "2000/2000 [==============================] - 28s 14ms/step\n"
     ]
    },
    {
     "name": "stderr",
     "output_type": "stream",
     "text": [
      "/opt/conda/lib/python3.10/site-packages/sklearn/metrics/_classification.py:1344: UndefinedMetricWarning: Precision and F-score are ill-defined and being set to 0.0 in samples with no predicted labels. Use `zero_division` parameter to control this behavior.\n",
      "  _warn_prf(average, modifier, msg_start, len(result))\n",
      "/opt/conda/lib/python3.10/site-packages/sklearn/metrics/_classification.py:1344: UndefinedMetricWarning: Recall and F-score are ill-defined and being set to 0.0 in samples with no true labels. Use `zero_division` parameter to control this behavior.\n",
      "  _warn_prf(average, modifier, msg_start, len(result))\n",
      "/opt/conda/lib/python3.10/site-packages/sklearn/metrics/_classification.py:1344: UndefinedMetricWarning: Precision and F-score are ill-defined and being set to 0.0 in samples with no predicted labels. Use `zero_division` parameter to control this behavior.\n",
      "  _warn_prf(average, modifier, msg_start, len(result))\n",
      "/opt/conda/lib/python3.10/site-packages/sklearn/metrics/_classification.py:1344: UndefinedMetricWarning: Recall and F-score are ill-defined and being set to 0.0 in samples with no true labels. Use `zero_division` parameter to control this behavior.\n",
      "  _warn_prf(average, modifier, msg_start, len(result))\n"
     ]
    },
    {
     "name": "stdout",
     "output_type": "stream",
     "text": [
      "Threshold: 0.1\n",
      "Classification Report:\n",
      "----------------------\n",
      "              precision    recall  f1-score   support\n",
      "\n",
      "           0       0.32      0.96      0.48      6090\n",
      "           1       0.10      0.93      0.18       367\n",
      "           2       0.31      0.94      0.47      3691\n",
      "           3       0.08      0.27      0.12       211\n",
      "           4       0.26      0.94      0.41      3427\n",
      "           5       0.13      0.61      0.21       712\n",
      "\n",
      "   micro avg       0.27      0.92      0.42     14498\n",
      "   macro avg       0.20      0.78      0.31     14498\n",
      "weighted avg       0.29      0.92      0.44     14498\n",
      " samples avg       0.06      0.09      0.07     14498\n",
      "\n",
      "F1 Score: 0.4366162657552304\n",
      "Precision: 0.2876705345650551\n",
      "Recall: 0.9215064146778866\n",
      "\n",
      "Accuracy: 0.7268748632342368\n",
      "\n",
      "Threshold: 0.2\n",
      "Classification Report:\n",
      "----------------------\n",
      "              precision    recall  f1-score   support\n",
      "\n",
      "           0       0.36      0.94      0.52      6090\n",
      "           1       0.16      0.81      0.26       367\n",
      "           2       0.38      0.91      0.53      3691\n",
      "           3       0.18      0.07      0.10       211\n",
      "           4       0.33      0.89      0.48      3427\n",
      "           5       0.20      0.29      0.24       712\n",
      "\n",
      "   micro avg       0.34      0.87      0.49     14498\n",
      "   macro avg       0.27      0.65      0.36     14498\n",
      "weighted avg       0.34      0.87      0.49     14498\n",
      " samples avg       0.07      0.08      0.07     14498\n",
      "\n",
      "F1 Score: 0.4903470828471724\n",
      "Precision: 0.3439248954546867\n",
      "Recall: 0.8730169678576355\n",
      "\n",
      "Accuracy: 0.771687142455219\n",
      "\n"
     ]
    },
    {
     "name": "stderr",
     "output_type": "stream",
     "text": [
      "/opt/conda/lib/python3.10/site-packages/sklearn/metrics/_classification.py:1344: UndefinedMetricWarning: Precision and F-score are ill-defined and being set to 0.0 in samples with no predicted labels. Use `zero_division` parameter to control this behavior.\n",
      "  _warn_prf(average, modifier, msg_start, len(result))\n",
      "/opt/conda/lib/python3.10/site-packages/sklearn/metrics/_classification.py:1344: UndefinedMetricWarning: Recall and F-score are ill-defined and being set to 0.0 in samples with no true labels. Use `zero_division` parameter to control this behavior.\n",
      "  _warn_prf(average, modifier, msg_start, len(result))\n",
      "/opt/conda/lib/python3.10/site-packages/sklearn/metrics/_classification.py:1344: UndefinedMetricWarning: Precision and F-score are ill-defined and being set to 0.0 in samples with no predicted labels. Use `zero_division` parameter to control this behavior.\n",
      "  _warn_prf(average, modifier, msg_start, len(result))\n",
      "/opt/conda/lib/python3.10/site-packages/sklearn/metrics/_classification.py:1344: UndefinedMetricWarning: Recall and F-score are ill-defined and being set to 0.0 in samples with no true labels. Use `zero_division` parameter to control this behavior.\n",
      "  _warn_prf(average, modifier, msg_start, len(result))\n"
     ]
    },
    {
     "name": "stdout",
     "output_type": "stream",
     "text": [
      "Threshold: 0.3\n",
      "Classification Report:\n",
      "----------------------\n",
      "              precision    recall  f1-score   support\n",
      "\n",
      "           0       0.40      0.92      0.56      6090\n",
      "           1       0.21      0.65      0.32       367\n",
      "           2       0.43      0.88      0.58      3691\n",
      "           3       0.03      0.00      0.01       211\n",
      "           4       0.38      0.84      0.53      3427\n",
      "           5       0.18      0.04      0.06       712\n",
      "\n",
      "   micro avg       0.39      0.83      0.53     14498\n",
      "   macro avg       0.27      0.56      0.34     14498\n",
      "weighted avg       0.38      0.83      0.52     14498\n",
      " samples avg       0.07      0.08      0.07     14498\n",
      "\n",
      "F1 Score: 0.5164883473196769\n",
      "Precision: 0.3821838581454785\n",
      "Recall: 0.8281142226514002\n",
      "\n",
      "Accuracy: 0.8027759542342681\n",
      "\n",
      "Threshold: 0.4\n",
      "Classification Report:\n",
      "----------------------\n",
      "              precision    recall  f1-score   support\n",
      "\n",
      "           0       0.43      0.90      0.58      6090\n",
      "           1       0.27      0.43      0.33       367\n",
      "           2       0.48      0.85      0.61      3691\n",
      "           3       0.03      0.00      0.01       211\n",
      "           4       0.43      0.78      0.56      3427\n",
      "           5       0.07      0.00      0.01       712\n",
      "\n",
      "   micro avg       0.44      0.79      0.56     14498\n",
      "   macro avg       0.28      0.49      0.35     14498\n",
      "weighted avg       0.42      0.79      0.54     14498\n",
      " samples avg       0.07      0.08      0.07     14498\n",
      "\n",
      "F1 Score: 0.540983962508262\n",
      "Precision: 0.4158157664368206\n",
      "Recall: 0.7887294799282659\n",
      "\n",
      "Accuracy: 0.8263778173747226\n",
      "\n"
     ]
    },
    {
     "name": "stderr",
     "output_type": "stream",
     "text": [
      "/opt/conda/lib/python3.10/site-packages/sklearn/metrics/_classification.py:1344: UndefinedMetricWarning: Precision and F-score are ill-defined and being set to 0.0 in samples with no predicted labels. Use `zero_division` parameter to control this behavior.\n",
      "  _warn_prf(average, modifier, msg_start, len(result))\n",
      "/opt/conda/lib/python3.10/site-packages/sklearn/metrics/_classification.py:1344: UndefinedMetricWarning: Recall and F-score are ill-defined and being set to 0.0 in samples with no true labels. Use `zero_division` parameter to control this behavior.\n",
      "  _warn_prf(average, modifier, msg_start, len(result))\n",
      "/opt/conda/lib/python3.10/site-packages/sklearn/metrics/_classification.py:1344: UndefinedMetricWarning: Precision and F-score are ill-defined and being set to 0.0 in samples with no predicted labels. Use `zero_division` parameter to control this behavior.\n",
      "  _warn_prf(average, modifier, msg_start, len(result))\n",
      "/opt/conda/lib/python3.10/site-packages/sklearn/metrics/_classification.py:1344: UndefinedMetricWarning: Recall and F-score are ill-defined and being set to 0.0 in samples with no true labels. Use `zero_division` parameter to control this behavior.\n",
      "  _warn_prf(average, modifier, msg_start, len(result))\n"
     ]
    },
    {
     "name": "stdout",
     "output_type": "stream",
     "text": [
      "Threshold: 0.5\n",
      "Classification Report:\n",
      "----------------------\n",
      "              precision    recall  f1-score   support\n",
      "\n",
      "           0       0.47      0.87      0.61      6090\n",
      "           1       0.41      0.12      0.19       367\n",
      "           2       0.52      0.81      0.63      3691\n",
      "           3       0.00      0.00      0.00       211\n",
      "           4       0.48      0.71      0.58      3427\n",
      "           5       0.08      0.00      0.00       712\n",
      "\n",
      "   micro avg       0.49      0.74      0.59     14498\n",
      "   macro avg       0.33      0.42      0.34     14498\n",
      "weighted avg       0.46      0.74      0.56     14498\n",
      " samples avg       0.07      0.07      0.07     14498\n",
      "\n",
      "F1 Score: 0.5596955232768982\n",
      "Precision: 0.4593365124207326\n",
      "Recall: 0.7445164850324183\n",
      "\n",
      "Accuracy: 0.8469473881646816\n",
      "\n",
      "Threshold: 0.6\n",
      "Classification Report:\n",
      "----------------------\n",
      "              precision    recall  f1-score   support\n",
      "\n",
      "           0       0.51      0.84      0.64      6090\n",
      "           1       0.20      0.00      0.01       367\n",
      "           2       0.57      0.76      0.65      3691\n",
      "           3       0.00      0.00      0.00       211\n",
      "           4       0.54      0.64      0.58      3427\n",
      "           5       0.00      0.00      0.00       712\n",
      "\n",
      "   micro avg       0.53      0.70      0.60     14498\n",
      "   macro avg       0.30      0.37      0.31     14498\n",
      "weighted avg       0.49      0.70      0.57     14498\n",
      " samples avg       0.07      0.07      0.07     14498\n",
      "\n",
      "F1 Score: 0.5724897475498909\n",
      "Precision: 0.49351798924158213\n",
      "Recall: 0.6988550144847565\n",
      "\n",
      "Accuracy: 0.8627965863265498\n",
      "\n"
     ]
    },
    {
     "name": "stderr",
     "output_type": "stream",
     "text": [
      "/opt/conda/lib/python3.10/site-packages/sklearn/metrics/_classification.py:1344: UndefinedMetricWarning: Precision and F-score are ill-defined and being set to 0.0 in samples with no predicted labels. Use `zero_division` parameter to control this behavior.\n",
      "  _warn_prf(average, modifier, msg_start, len(result))\n",
      "/opt/conda/lib/python3.10/site-packages/sklearn/metrics/_classification.py:1344: UndefinedMetricWarning: Recall and F-score are ill-defined and being set to 0.0 in samples with no true labels. Use `zero_division` parameter to control this behavior.\n",
      "  _warn_prf(average, modifier, msg_start, len(result))\n",
      "/opt/conda/lib/python3.10/site-packages/sklearn/metrics/_classification.py:1344: UndefinedMetricWarning: Precision and F-score are ill-defined and being set to 0.0 in labels with no predicted samples. Use `zero_division` parameter to control this behavior.\n",
      "  _warn_prf(average, modifier, msg_start, len(result))\n",
      "/opt/conda/lib/python3.10/site-packages/sklearn/metrics/_classification.py:1344: UndefinedMetricWarning: Precision and F-score are ill-defined and being set to 0.0 in samples with no predicted labels. Use `zero_division` parameter to control this behavior.\n",
      "  _warn_prf(average, modifier, msg_start, len(result))\n",
      "/opt/conda/lib/python3.10/site-packages/sklearn/metrics/_classification.py:1344: UndefinedMetricWarning: Recall and F-score are ill-defined and being set to 0.0 in samples with no true labels. Use `zero_division` parameter to control this behavior.\n",
      "  _warn_prf(average, modifier, msg_start, len(result))\n",
      "/opt/conda/lib/python3.10/site-packages/sklearn/metrics/_classification.py:1344: UndefinedMetricWarning: Precision is ill-defined and being set to 0.0 in labels with no predicted samples. Use `zero_division` parameter to control this behavior.\n",
      "  _warn_prf(average, modifier, msg_start, len(result))\n"
     ]
    },
    {
     "name": "stdout",
     "output_type": "stream",
     "text": [
      "Threshold: 0.7\n",
      "Classification Report:\n",
      "----------------------\n",
      "              precision    recall  f1-score   support\n",
      "\n",
      "           0       0.56      0.79      0.65      6090\n",
      "           1       0.00      0.00      0.00       367\n",
      "           2       0.63      0.70      0.66      3691\n",
      "           3       0.00      0.00      0.00       211\n",
      "           4       0.61      0.55      0.58      3427\n",
      "           5       0.00      0.00      0.00       712\n",
      "\n",
      "   micro avg       0.59      0.64      0.61     14498\n",
      "   macro avg       0.30      0.34      0.32     14498\n",
      "weighted avg       0.54      0.64      0.58     14498\n",
      " samples avg       0.07      0.06      0.06     14498\n",
      "\n",
      "F1 Score: 0.5813778867766913\n",
      "Precision: 0.5392732234020049\n",
      "Recall: 0.6419506138777763\n",
      "\n",
      "Accuracy: 0.8766450967520085\n",
      "\n",
      "Threshold: 0.8\n",
      "Classification Report:\n",
      "----------------------\n",
      "              precision    recall  f1-score   support\n",
      "\n",
      "           0       0.61      0.71      0.66      6090\n",
      "           1       0.00      0.00      0.00       367\n",
      "           2       0.71      0.61      0.65      3691\n",
      "           3       0.00      0.00      0.00       211\n",
      "           4       0.74      0.43      0.54      3427\n",
      "           5       0.00      0.00      0.00       712\n",
      "\n",
      "   micro avg       0.66      0.55      0.60     14498\n",
      "   macro avg       0.34      0.29      0.31     14498\n",
      "weighted avg       0.61      0.55      0.57     14498\n",
      " samples avg       0.06      0.05      0.05     14498\n",
      "\n",
      "F1 Score: 0.5707019785483702\n",
      "Precision: 0.6117754922615316\n",
      "Recall: 0.5545592495516622\n",
      "\n",
      "Accuracy: 0.8868360999093439\n",
      "\n",
      "Threshold: 0.9\n",
      "Classification Report:\n",
      "----------------------\n",
      "              precision    recall  f1-score   support\n",
      "\n",
      "           0       0.70      0.57      0.63      6090\n",
      "           1       0.00      0.00      0.00       367\n",
      "           2       0.88      0.36      0.51      3691\n",
      "           3       0.00      0.00      0.00       211\n",
      "           4       0.85      0.19      0.31      3427\n",
      "           5       0.00      0.00      0.00       712\n",
      "\n",
      "   micro avg       0.75      0.38      0.50     14498\n",
      "   macro avg       0.40      0.19      0.24     14498\n",
      "weighted avg       0.72      0.38      0.47     14498\n",
      " samples avg       0.05      0.03      0.04     14498\n",
      "\n",
      "F1 Score: 0.46646687713869184\n",
      "Precision: 0.7175511925480756\n",
      "Recall: 0.3751551938198372\n",
      "\n",
      "Accuracy: 0.8926974897621057\n",
      "\n"
     ]
    },
    {
     "name": "stderr",
     "output_type": "stream",
     "text": [
      "/opt/conda/lib/python3.10/site-packages/sklearn/metrics/_classification.py:1344: UndefinedMetricWarning: Precision and F-score are ill-defined and being set to 0.0 in labels with no predicted samples. Use `zero_division` parameter to control this behavior.\n",
      "  _warn_prf(average, modifier, msg_start, len(result))\n",
      "/opt/conda/lib/python3.10/site-packages/sklearn/metrics/_classification.py:1344: UndefinedMetricWarning: Precision and F-score are ill-defined and being set to 0.0 in samples with no predicted labels. Use `zero_division` parameter to control this behavior.\n",
      "  _warn_prf(average, modifier, msg_start, len(result))\n",
      "/opt/conda/lib/python3.10/site-packages/sklearn/metrics/_classification.py:1344: UndefinedMetricWarning: Recall and F-score are ill-defined and being set to 0.0 in samples with no true labels. Use `zero_division` parameter to control this behavior.\n",
      "  _warn_prf(average, modifier, msg_start, len(result))\n",
      "/opt/conda/lib/python3.10/site-packages/sklearn/metrics/_classification.py:1344: UndefinedMetricWarning: Precision is ill-defined and being set to 0.0 in labels with no predicted samples. Use `zero_division` parameter to control this behavior.\n",
      "  _warn_prf(average, modifier, msg_start, len(result))\n"
     ]
    }
   ],
   "source": [
    "thresholds = [0.1, 0.2, 0.3, 0.4, 0.5, 0.6, 0.7, 0.8, 0.9]\n",
    "\n",
    "predicts = saved_model.predict(x_test, verbose=1)\n",
    "\n",
    "for threshold in thresholds:\n",
    "  y_pred = (predicts > threshold)\n",
    "  f1 = f1_score(y_test, y_pred, average='weighted')\n",
    "  accuracy = accuracy_score(y_test, y_pred)\n",
    "  clr = classification_report(y_test, y_pred)\n",
    "  precision = precision_score(y_test, y_pred, average='weighted')\n",
    "  recall = recall_score(y_test, y_pred, average='weighted')\n",
    "  print(f\"Threshold: {threshold}\\nClassification Report:\\n----------------------\\n{clr}\\nF1 Score: {f1}\\nPrecision: {precision}\\nRecall: {recall}\\n\\nAccuracy: {accuracy}\\n\")"
   ]
  },
  {
   "cell_type": "code",
   "execution_count": 32,
   "id": "7106a32e",
   "metadata": {
    "execution": {
     "iopub.execute_input": "2023-12-24T09:51:45.790921Z",
     "iopub.status.busy": "2023-12-24T09:51:45.790531Z",
     "iopub.status.idle": "2023-12-24T09:51:47.648381Z",
     "shell.execute_reply": "2023-12-24T09:51:47.647118Z"
    },
    "papermill": {
     "duration": 2.072101,
     "end_time": "2023-12-24T09:51:47.650902",
     "exception": false,
     "start_time": "2023-12-24T09:51:45.578801",
     "status": "completed"
    },
    "tags": []
   },
   "outputs": [
    {
     "name": "stdout",
     "output_type": "stream",
     "text": [
      "  adding: kaggle/working/toxic_model_gru/ (stored 0%)\r\n",
      "  adding: kaggle/working/toxic_model_gru/fingerprint.pb (stored 0%)\r\n",
      "  adding: kaggle/working/toxic_model_gru/saved_model.pb (deflated 89%)\r\n",
      "  adding: kaggle/working/toxic_model_gru/assets/ (stored 0%)\r\n",
      "  adding: kaggle/working/toxic_model_gru/keras_metadata.pb (deflated 89%)\r\n",
      "  adding: kaggle/working/toxic_model_gru/variables/ (stored 0%)\r\n",
      "  adding: kaggle/working/toxic_model_gru/variables/variables.index (deflated 63%)\r\n",
      "  adding: kaggle/working/toxic_model_gru/variables/variables.data-00000-of-00001 (deflated 7%)\r\n"
     ]
    }
   ],
   "source": [
    "!zip -r /kaggle/working/toxic_model_gru.zip /kaggle/working/toxic_model_gru"
   ]
  }
 ],
 "metadata": {
  "kaggle": {
   "accelerator": "gpu",
   "dataSources": [
    {
     "datasetId": 1709138,
     "sourceId": 2798066,
     "sourceType": "datasetVersion"
    }
   ],
   "dockerImageVersionId": 30588,
   "isGpuEnabled": true,
   "isInternetEnabled": true,
   "language": "python",
   "sourceType": "notebook"
  },
  "kernelspec": {
   "display_name": "Python 3",
   "language": "python",
   "name": "python3"
  },
  "language_info": {
   "codemirror_mode": {
    "name": "ipython",
    "version": 3
   },
   "file_extension": ".py",
   "mimetype": "text/x-python",
   "name": "python",
   "nbconvert_exporter": "python",
   "pygments_lexer": "ipython3",
   "version": "3.10.12"
  },
  "papermill": {
   "default_parameters": {},
   "duration": 459.742841,
   "end_time": "2023-12-24T09:51:51.309679",
   "environment_variables": {},
   "exception": null,
   "input_path": "__notebook__.ipynb",
   "output_path": "__notebook__.ipynb",
   "parameters": {},
   "start_time": "2023-12-24T09:44:11.566838",
   "version": "2.4.0"
  }
 },
 "nbformat": 4,
 "nbformat_minor": 5
}
